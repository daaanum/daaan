{
  "nbformat": 4,
  "nbformat_minor": 0,
  "metadata": {
    "colab": {
      "name": "딥러닝입문.ipynb",
      "provenance": [],
      "authorship_tag": "ABX9TyNqUWUS939QIAR73DojC1K9",
      "include_colab_link": true
    },
    "kernelspec": {
      "name": "python3",
      "display_name": "Python 3"
    },
    "language_info": {
      "name": "python"
    }
  },
  "cells": [
    {
      "cell_type": "markdown",
      "metadata": {
        "id": "view-in-github",
        "colab_type": "text"
      },
      "source": [
        "<a href=\"https://colab.research.google.com/github/daaanum/daaan/blob/main/%EB%94%A5%EB%9F%AC%EB%8B%9D%EC%9E%85%EB%AC%B8.ipynb\" target=\"_parent\"><img src=\"https://colab.research.google.com/assets/colab-badge.svg\" alt=\"Open In Colab\"/></a>"
      ]
    },
    {
      "cell_type": "markdown",
      "source": [
        "간단한 딥러닝 모델 만들기"
      ],
      "metadata": {
        "id": "p9Iqptq88T2P"
      }
    },
    {
      "cell_type": "code",
      "execution_count": 1,
      "metadata": {
        "colab": {
          "base_uri": "https://localhost:8080/"
        },
        "id": "mwTpO8Reol_p",
        "outputId": "a7f62971-b846-468f-dbdd-0f7649c18eb0"
      },
      "outputs": [
        {
          "output_type": "stream",
          "name": "stdout",
          "text": [
            "2.8.0\n"
          ]
        }
      ],
      "source": [
        "import tensorflow as tf\n",
        "print(tf.__version__)"
      ]
    },
    {
      "cell_type": "code",
      "source": [
        "import pandas as pd\n",
        "import numpy as np\n",
        "\n",
        "x = [-3,31,-11,4,0,22,-2,-5,-25,-14]\n",
        "y = [-2,32,-10,5,1,23,-1,-4,-24,-13]\n",
        "\n",
        "X_train = np.array(x).reshape(-1,1)\n",
        "y_train = np.array(y)\n",
        "\n",
        "print(X_train.shape, y_train.shape)"
      ],
      "metadata": {
        "colab": {
          "base_uri": "https://localhost:8080/"
        },
        "id": "hClVMaXro2lk",
        "outputId": "6e82b70c-9bf3-4b78-9313-3044457f30bb"
      },
      "execution_count": 2,
      "outputs": [
        {
          "output_type": "stream",
          "name": "stdout",
          "text": [
            "(10, 1) (10,)\n"
          ]
        }
      ]
    },
    {
      "cell_type": "code",
      "source": [
        "from tensorflow.keras import Sequential\n",
        "from tensorflow.keras.layers import Dense\n",
        "\n",
        "model = Sequential()\n",
        "model.add(Dense(units=1, activation='linear', input_dim=1))"
      ],
      "metadata": {
        "id": "h2-QOilwpOPM"
      },
      "execution_count": 3,
      "outputs": []
    },
    {
      "cell_type": "code",
      "source": [
        "model.summary()"
      ],
      "metadata": {
        "colab": {
          "base_uri": "https://localhost:8080/"
        },
        "id": "oWFzUv4ipcka",
        "outputId": "3d16c838-65db-4752-db61-9bf9c80e5d3d"
      },
      "execution_count": 4,
      "outputs": [
        {
          "output_type": "stream",
          "name": "stdout",
          "text": [
            "Model: \"sequential\"\n",
            "_________________________________________________________________\n",
            " Layer (type)                Output Shape              Param #   \n",
            "=================================================================\n",
            " dense (Dense)               (None, 1)                 2         \n",
            "                                                                 \n",
            "=================================================================\n",
            "Total params: 2\n",
            "Trainable params: 2\n",
            "Non-trainable params: 0\n",
            "_________________________________________________________________\n"
          ]
        }
      ]
    },
    {
      "cell_type": "code",
      "source": [
        "model.compile(optimizer='adam',loss='mse',metrics=['mae'])"
      ],
      "metadata": {
        "id": "Vi5bz073pd2B"
      },
      "execution_count": 5,
      "outputs": []
    },
    {
      "cell_type": "code",
      "source": [
        "model.fit(X_train, y_train, epochs=3000, verbose=0)"
      ],
      "metadata": {
        "colab": {
          "base_uri": "https://localhost:8080/"
        },
        "id": "RX94BIbQpmDD",
        "outputId": "b84d07c1-fc3c-4ab6-cd77-ea9e12e22ac0"
      },
      "execution_count": 6,
      "outputs": [
        {
          "output_type": "execute_result",
          "data": {
            "text/plain": [
              "<keras.callbacks.History at 0x7f680094a290>"
            ]
          },
          "metadata": {},
          "execution_count": 6
        }
      ]
    },
    {
      "cell_type": "code",
      "source": [
        "model.weights"
      ],
      "metadata": {
        "colab": {
          "base_uri": "https://localhost:8080/"
        },
        "id": "6htMxTOspriW",
        "outputId": "1c1b34df-a850-4f67-ac76-67bdcaaa3c53"
      },
      "execution_count": 7,
      "outputs": [
        {
          "output_type": "execute_result",
          "data": {
            "text/plain": [
              "[<tf.Variable 'dense/kernel:0' shape=(1, 1) dtype=float32, numpy=array([[0.99461603]], dtype=float32)>,\n",
              " <tf.Variable 'dense/bias:0' shape=(1,) dtype=float32, numpy=array([0.9974435], dtype=float32)>]"
            ]
          },
          "metadata": {},
          "execution_count": 7
        }
      ]
    },
    {
      "cell_type": "code",
      "source": [
        "model.predict([[11],[12],[13]])"
      ],
      "metadata": {
        "colab": {
          "base_uri": "https://localhost:8080/"
        },
        "id": "ssBeQr3wpvku",
        "outputId": "1033fadb-705b-4ed1-dd81-02a4038ce807"
      },
      "execution_count": 9,
      "outputs": [
        {
          "output_type": "execute_result",
          "data": {
            "text/plain": [
              "array([[11.93822 ],\n",
              "       [12.932836],\n",
              "       [13.927451]], dtype=float32)"
            ]
          },
          "metadata": {},
          "execution_count": 9
        }
      ]
    },
    {
      "cell_type": "markdown",
      "source": [
        "딥러닝을 활용한 회귀 분석: 보스턴 주택 가격 예측"
      ],
      "metadata": {
        "id": "dnYeIOaa8Muv"
      }
    },
    {
      "cell_type": "code",
      "source": [
        "import pandas as pd\n",
        "import numpy as np\n",
        "import random\n",
        "import tensorflow as tf\n",
        "print(tf.__version__)"
      ],
      "metadata": {
        "colab": {
          "base_uri": "https://localhost:8080/"
        },
        "id": "X7yB3kmnp2Gh",
        "outputId": "703ef9fc-77d1-4567-b09a-776712a28285"
      },
      "execution_count": 10,
      "outputs": [
        {
          "output_type": "stream",
          "name": "stdout",
          "text": [
            "2.8.0\n"
          ]
        }
      ]
    },
    {
      "cell_type": "code",
      "source": [
        "SEED=12\n",
        "random.seed(SEED)\n",
        "np.random.seed(SEED)\n",
        "tf.random.set_seed(SEED)\n",
        "print(\"시드 고정:\", SEED)"
      ],
      "metadata": {
        "colab": {
          "base_uri": "https://localhost:8080/"
        },
        "id": "TUaY_lBOrSVs",
        "outputId": "b6692d82-71bd-4436-9ce1-028b2144f1fd"
      },
      "execution_count": 11,
      "outputs": [
        {
          "output_type": "stream",
          "name": "stdout",
          "text": [
            "시드 고정: 12\n"
          ]
        }
      ]
    },
    {
      "cell_type": "code",
      "source": [
        "from sklearn import datasets\n",
        "housing = datasets.load_boston()\n",
        "X_data = housing.data\n",
        "y_data = housing.target\n",
        "print(X_data.shape, y_data.shape)"
      ],
      "metadata": {
        "colab": {
          "base_uri": "https://localhost:8080/"
        },
        "id": "Wd-UAO49rasW",
        "outputId": "4ad0569e-29da-46cb-87f5-97fb36a22e0b"
      },
      "execution_count": 12,
      "outputs": [
        {
          "output_type": "stream",
          "name": "stdout",
          "text": [
            "(506, 13) (506,)\n"
          ]
        },
        {
          "output_type": "stream",
          "name": "stderr",
          "text": [
            "/usr/local/lib/python3.7/dist-packages/sklearn/utils/deprecation.py:87: FutureWarning: Function load_boston is deprecated; `load_boston` is deprecated in 1.0 and will be removed in 1.2.\n",
            "\n",
            "    The Boston housing prices dataset has an ethical problem. You can refer to\n",
            "    the documentation of this function for further details.\n",
            "\n",
            "    The scikit-learn maintainers therefore strongly discourage the use of this\n",
            "    dataset unless the purpose of the code is to study and educate about\n",
            "    ethical issues in data science and machine learning.\n",
            "\n",
            "    In this special case, you can fetch the dataset from the original\n",
            "    source::\n",
            "\n",
            "        import pandas as pd\n",
            "        import numpy as np\n",
            "\n",
            "\n",
            "        data_url = \"http://lib.stat.cmu.edu/datasets/boston\"\n",
            "        raw_df = pd.read_csv(data_url, sep=\"\\s+\", skiprows=22, header=None)\n",
            "        data = np.hstack([raw_df.values[::2, :], raw_df.values[1::2, :2]])\n",
            "        target = raw_df.values[1::2, 2]\n",
            "\n",
            "    Alternative datasets include the California housing dataset (i.e.\n",
            "    :func:`~sklearn.datasets.fetch_california_housing`) and the Ames housing\n",
            "    dataset. You can load the datasets as follows::\n",
            "\n",
            "        from sklearn.datasets import fetch_california_housing\n",
            "        housing = fetch_california_housing()\n",
            "\n",
            "    for the California housing dataset and::\n",
            "\n",
            "        from sklearn.datasets import fetch_openml\n",
            "        housing = fetch_openml(name=\"house_prices\", as_frame=True)\n",
            "\n",
            "    for the Ames housing dataset.\n",
            "    \n",
            "  warnings.warn(msg, category=FutureWarning)\n"
          ]
        }
      ]
    },
    {
      "cell_type": "code",
      "source": [
        "from sklearn.preprocessing import MinMaxScaler\n",
        "\n",
        "scaler = MinMaxScaler()\n",
        "X_data_scaled = scaler.fit_transform(X_data)\n",
        "\n",
        "X_data_scaled[0]"
      ],
      "metadata": {
        "colab": {
          "base_uri": "https://localhost:8080/"
        },
        "id": "wFEYv27TrvBz",
        "outputId": "4876bb90-1e88-4af6-d7cb-2019f3bf0aa3"
      },
      "execution_count": 15,
      "outputs": [
        {
          "output_type": "execute_result",
          "data": {
            "text/plain": [
              "array([0.        , 0.18      , 0.06781525, 0.        , 0.31481481,\n",
              "       0.57750527, 0.64160659, 0.26920314, 0.        , 0.20801527,\n",
              "       0.28723404, 1.        , 0.08967991])"
            ]
          },
          "metadata": {},
          "execution_count": 15
        }
      ]
    },
    {
      "cell_type": "code",
      "source": [
        "from sklearn.model_selection import train_test_split\n",
        "X_train, X_test, y_train, y_test = train_test_split(X_data, y_data, test_size = 0.2, shuffle=True, random_state=SEED)\n",
        "print(X_train.shape, y_train.shape)\n",
        "print(X_test.shape, y_test.shape)"
      ],
      "metadata": {
        "colab": {
          "base_uri": "https://localhost:8080/"
        },
        "id": "PpMlRjyqsCjA",
        "outputId": "f37dff46-aaf6-4ef1-89aa-62fbacf056ac"
      },
      "execution_count": 19,
      "outputs": [
        {
          "output_type": "stream",
          "name": "stdout",
          "text": [
            "(404, 13) (404,)\n",
            "(102, 13) (102,)\n"
          ]
        }
      ]
    },
    {
      "cell_type": "code",
      "source": [
        "from tensorflow.keras import Sequential\n",
        "from tensorflow.keras.layers import Dense\n",
        "def build_model(num_input=1):\n",
        "  model = Sequential()\n",
        "  model.add(Dense(128, activation='relu',input_dim=num_input))\n",
        "  model.add(Dense(64, activation='relu'))\n",
        "  model.add(Dense(32, activation='relu'))\n",
        "  model.add(Dense(16, activation='relu'))\n",
        "  model.add(Dense(1, activation='linear'))\n",
        "\n",
        "  model.compile(optimizer='adam', loss='mse',metrics=['mae'])\n",
        "\n",
        "  return model\n",
        "\n",
        "model = build_model(num_input=13)\n",
        "model.summary()"
      ],
      "metadata": {
        "colab": {
          "base_uri": "https://localhost:8080/"
        },
        "id": "yQ5sWj7jszOr",
        "outputId": "a559183d-b1d0-4763-8a97-f7f561bdd2a5"
      },
      "execution_count": 21,
      "outputs": [
        {
          "output_type": "stream",
          "name": "stdout",
          "text": [
            "Model: \"sequential_1\"\n",
            "_________________________________________________________________\n",
            " Layer (type)                Output Shape              Param #   \n",
            "=================================================================\n",
            " dense_1 (Dense)             (None, 128)               1792      \n",
            "                                                                 \n",
            " dense_2 (Dense)             (None, 64)                8256      \n",
            "                                                                 \n",
            " dense_3 (Dense)             (None, 32)                2080      \n",
            "                                                                 \n",
            " dense_4 (Dense)             (None, 16)                528       \n",
            "                                                                 \n",
            " dense_5 (Dense)             (None, 1)                 17        \n",
            "                                                                 \n",
            "=================================================================\n",
            "Total params: 12,673\n",
            "Trainable params: 12,673\n",
            "Non-trainable params: 0\n",
            "_________________________________________________________________\n"
          ]
        }
      ]
    },
    {
      "cell_type": "code",
      "source": [
        "model.fit(X_train, y_train, epochs=100, batch_size=32, verbose=2)"
      ],
      "metadata": {
        "colab": {
          "base_uri": "https://localhost:8080/"
        },
        "id": "tLCi98TbueqZ",
        "outputId": "dfb5114c-0cc0-4927-a912-55dd6770a614"
      },
      "execution_count": 22,
      "outputs": [
        {
          "output_type": "stream",
          "name": "stdout",
          "text": [
            "Epoch 1/100\n",
            "13/13 - 1s - loss: 87.6453 - mae: 6.9585 - 755ms/epoch - 58ms/step\n",
            "Epoch 2/100\n",
            "13/13 - 0s - loss: 66.3272 - mae: 5.8104 - 45ms/epoch - 3ms/step\n",
            "Epoch 3/100\n",
            "13/13 - 0s - loss: 65.1841 - mae: 5.7634 - 50ms/epoch - 4ms/step\n",
            "Epoch 4/100\n",
            "13/13 - 0s - loss: 59.6214 - mae: 5.6163 - 56ms/epoch - 4ms/step\n",
            "Epoch 5/100\n",
            "13/13 - 0s - loss: 55.4058 - mae: 5.3637 - 70ms/epoch - 5ms/step\n",
            "Epoch 6/100\n",
            "13/13 - 0s - loss: 65.1745 - mae: 5.7097 - 85ms/epoch - 7ms/step\n",
            "Epoch 7/100\n",
            "13/13 - 0s - loss: 55.0851 - mae: 5.6530 - 86ms/epoch - 7ms/step\n",
            "Epoch 8/100\n",
            "13/13 - 0s - loss: 55.0642 - mae: 5.2550 - 32ms/epoch - 2ms/step\n",
            "Epoch 9/100\n",
            "13/13 - 0s - loss: 51.0933 - mae: 5.1127 - 32ms/epoch - 2ms/step\n",
            "Epoch 10/100\n",
            "13/13 - 0s - loss: 45.4516 - mae: 4.7980 - 33ms/epoch - 3ms/step\n",
            "Epoch 11/100\n",
            "13/13 - 0s - loss: 48.3348 - mae: 5.0286 - 33ms/epoch - 3ms/step\n",
            "Epoch 12/100\n",
            "13/13 - 0s - loss: 45.4269 - mae: 4.7722 - 32ms/epoch - 2ms/step\n",
            "Epoch 13/100\n",
            "13/13 - 0s - loss: 58.0283 - mae: 5.6321 - 30ms/epoch - 2ms/step\n",
            "Epoch 14/100\n",
            "13/13 - 0s - loss: 42.6126 - mae: 4.5920 - 28ms/epoch - 2ms/step\n",
            "Epoch 15/100\n",
            "13/13 - 0s - loss: 44.7083 - mae: 4.7147 - 30ms/epoch - 2ms/step\n",
            "Epoch 16/100\n",
            "13/13 - 0s - loss: 38.9313 - mae: 4.3531 - 32ms/epoch - 2ms/step\n",
            "Epoch 17/100\n",
            "13/13 - 0s - loss: 41.0174 - mae: 4.7285 - 35ms/epoch - 3ms/step\n",
            "Epoch 18/100\n",
            "13/13 - 0s - loss: 39.2630 - mae: 4.5150 - 29ms/epoch - 2ms/step\n",
            "Epoch 19/100\n",
            "13/13 - 0s - loss: 35.9524 - mae: 4.2515 - 30ms/epoch - 2ms/step\n",
            "Epoch 20/100\n",
            "13/13 - 0s - loss: 33.7274 - mae: 4.1304 - 29ms/epoch - 2ms/step\n",
            "Epoch 21/100\n",
            "13/13 - 0s - loss: 37.6273 - mae: 4.5446 - 34ms/epoch - 3ms/step\n",
            "Epoch 22/100\n",
            "13/13 - 0s - loss: 38.7548 - mae: 4.5879 - 40ms/epoch - 3ms/step\n",
            "Epoch 23/100\n",
            "13/13 - 0s - loss: 39.6408 - mae: 4.5445 - 31ms/epoch - 2ms/step\n",
            "Epoch 24/100\n",
            "13/13 - 0s - loss: 32.8215 - mae: 4.0518 - 29ms/epoch - 2ms/step\n",
            "Epoch 25/100\n",
            "13/13 - 0s - loss: 30.1797 - mae: 3.9295 - 30ms/epoch - 2ms/step\n",
            "Epoch 26/100\n",
            "13/13 - 0s - loss: 29.4128 - mae: 3.9568 - 28ms/epoch - 2ms/step\n",
            "Epoch 27/100\n",
            "13/13 - 0s - loss: 29.5214 - mae: 3.8260 - 31ms/epoch - 2ms/step\n",
            "Epoch 28/100\n",
            "13/13 - 0s - loss: 29.4662 - mae: 3.9129 - 27ms/epoch - 2ms/step\n",
            "Epoch 29/100\n",
            "13/13 - 0s - loss: 32.3800 - mae: 4.2656 - 26ms/epoch - 2ms/step\n",
            "Epoch 30/100\n",
            "13/13 - 0s - loss: 28.7613 - mae: 3.9200 - 29ms/epoch - 2ms/step\n",
            "Epoch 31/100\n",
            "13/13 - 0s - loss: 26.3545 - mae: 3.7128 - 27ms/epoch - 2ms/step\n",
            "Epoch 32/100\n",
            "13/13 - 0s - loss: 30.1032 - mae: 4.0629 - 33ms/epoch - 3ms/step\n",
            "Epoch 33/100\n",
            "13/13 - 0s - loss: 35.7194 - mae: 4.5578 - 34ms/epoch - 3ms/step\n",
            "Epoch 34/100\n",
            "13/13 - 0s - loss: 42.2213 - mae: 5.0162 - 28ms/epoch - 2ms/step\n",
            "Epoch 35/100\n",
            "13/13 - 0s - loss: 30.4990 - mae: 4.1161 - 30ms/epoch - 2ms/step\n",
            "Epoch 36/100\n",
            "13/13 - 0s - loss: 28.3134 - mae: 3.9610 - 33ms/epoch - 3ms/step\n",
            "Epoch 37/100\n",
            "13/13 - 0s - loss: 27.4265 - mae: 3.8452 - 31ms/epoch - 2ms/step\n",
            "Epoch 38/100\n",
            "13/13 - 0s - loss: 24.7669 - mae: 3.6238 - 30ms/epoch - 2ms/step\n",
            "Epoch 39/100\n",
            "13/13 - 0s - loss: 24.7273 - mae: 3.7496 - 30ms/epoch - 2ms/step\n",
            "Epoch 40/100\n",
            "13/13 - 0s - loss: 23.3001 - mae: 3.5126 - 28ms/epoch - 2ms/step\n",
            "Epoch 41/100\n",
            "13/13 - 0s - loss: 23.2940 - mae: 3.5025 - 27ms/epoch - 2ms/step\n",
            "Epoch 42/100\n",
            "13/13 - 0s - loss: 24.7035 - mae: 3.6733 - 29ms/epoch - 2ms/step\n",
            "Epoch 43/100\n",
            "13/13 - 0s - loss: 22.6625 - mae: 3.4274 - 37ms/epoch - 3ms/step\n",
            "Epoch 44/100\n",
            "13/13 - 0s - loss: 22.0241 - mae: 3.5315 - 27ms/epoch - 2ms/step\n",
            "Epoch 45/100\n",
            "13/13 - 0s - loss: 21.7709 - mae: 3.4922 - 26ms/epoch - 2ms/step\n",
            "Epoch 46/100\n",
            "13/13 - 0s - loss: 28.1376 - mae: 3.9192 - 25ms/epoch - 2ms/step\n",
            "Epoch 47/100\n",
            "13/13 - 0s - loss: 21.7601 - mae: 3.5056 - 31ms/epoch - 2ms/step\n",
            "Epoch 48/100\n",
            "13/13 - 0s - loss: 20.8743 - mae: 3.3367 - 29ms/epoch - 2ms/step\n",
            "Epoch 49/100\n",
            "13/13 - 0s - loss: 20.6151 - mae: 3.3935 - 34ms/epoch - 3ms/step\n",
            "Epoch 50/100\n",
            "13/13 - 0s - loss: 19.7764 - mae: 3.2968 - 28ms/epoch - 2ms/step\n",
            "Epoch 51/100\n",
            "13/13 - 0s - loss: 19.9472 - mae: 3.3185 - 29ms/epoch - 2ms/step\n",
            "Epoch 52/100\n",
            "13/13 - 0s - loss: 23.8906 - mae: 3.7190 - 34ms/epoch - 3ms/step\n",
            "Epoch 53/100\n",
            "13/13 - 0s - loss: 25.9089 - mae: 3.8536 - 29ms/epoch - 2ms/step\n",
            "Epoch 54/100\n",
            "13/13 - 0s - loss: 30.2270 - mae: 4.0443 - 27ms/epoch - 2ms/step\n",
            "Epoch 55/100\n",
            "13/13 - 0s - loss: 26.2794 - mae: 3.9623 - 30ms/epoch - 2ms/step\n",
            "Epoch 56/100\n",
            "13/13 - 0s - loss: 22.8532 - mae: 3.4742 - 29ms/epoch - 2ms/step\n",
            "Epoch 57/100\n",
            "13/13 - 0s - loss: 27.2718 - mae: 3.7989 - 30ms/epoch - 2ms/step\n",
            "Epoch 58/100\n",
            "13/13 - 0s - loss: 22.2203 - mae: 3.4326 - 28ms/epoch - 2ms/step\n",
            "Epoch 59/100\n",
            "13/13 - 0s - loss: 19.8657 - mae: 3.3207 - 28ms/epoch - 2ms/step\n",
            "Epoch 60/100\n",
            "13/13 - 0s - loss: 21.3946 - mae: 3.3684 - 29ms/epoch - 2ms/step\n",
            "Epoch 61/100\n",
            "13/13 - 0s - loss: 22.6471 - mae: 3.5236 - 29ms/epoch - 2ms/step\n",
            "Epoch 62/100\n",
            "13/13 - 0s - loss: 20.0988 - mae: 3.3164 - 33ms/epoch - 3ms/step\n",
            "Epoch 63/100\n",
            "13/13 - 0s - loss: 21.3562 - mae: 3.4718 - 26ms/epoch - 2ms/step\n",
            "Epoch 64/100\n",
            "13/13 - 0s - loss: 19.1792 - mae: 3.3681 - 31ms/epoch - 2ms/step\n",
            "Epoch 65/100\n",
            "13/13 - 0s - loss: 26.9079 - mae: 4.0093 - 27ms/epoch - 2ms/step\n",
            "Epoch 66/100\n",
            "13/13 - 0s - loss: 20.4473 - mae: 3.3181 - 30ms/epoch - 2ms/step\n",
            "Epoch 67/100\n",
            "13/13 - 0s - loss: 19.4533 - mae: 3.2373 - 32ms/epoch - 2ms/step\n",
            "Epoch 68/100\n",
            "13/13 - 0s - loss: 18.5160 - mae: 3.1671 - 28ms/epoch - 2ms/step\n",
            "Epoch 69/100\n",
            "13/13 - 0s - loss: 17.0528 - mae: 3.0478 - 28ms/epoch - 2ms/step\n",
            "Epoch 70/100\n",
            "13/13 - 0s - loss: 16.4453 - mae: 3.0377 - 36ms/epoch - 3ms/step\n",
            "Epoch 71/100\n",
            "13/13 - 0s - loss: 16.1985 - mae: 2.9022 - 31ms/epoch - 2ms/step\n",
            "Epoch 72/100\n",
            "13/13 - 0s - loss: 18.5424 - mae: 3.1790 - 28ms/epoch - 2ms/step\n",
            "Epoch 73/100\n",
            "13/13 - 0s - loss: 21.6627 - mae: 3.2955 - 28ms/epoch - 2ms/step\n",
            "Epoch 74/100\n",
            "13/13 - 0s - loss: 19.9419 - mae: 3.4606 - 27ms/epoch - 2ms/step\n",
            "Epoch 75/100\n",
            "13/13 - 0s - loss: 16.4020 - mae: 2.9656 - 28ms/epoch - 2ms/step\n",
            "Epoch 76/100\n",
            "13/13 - 0s - loss: 22.3437 - mae: 3.6003 - 30ms/epoch - 2ms/step\n",
            "Epoch 77/100\n",
            "13/13 - 0s - loss: 21.8468 - mae: 3.6269 - 26ms/epoch - 2ms/step\n",
            "Epoch 78/100\n",
            "13/13 - 0s - loss: 18.9970 - mae: 3.1742 - 35ms/epoch - 3ms/step\n",
            "Epoch 79/100\n",
            "13/13 - 0s - loss: 17.6921 - mae: 3.1482 - 27ms/epoch - 2ms/step\n",
            "Epoch 80/100\n",
            "13/13 - 0s - loss: 19.0292 - mae: 3.0938 - 27ms/epoch - 2ms/step\n",
            "Epoch 81/100\n",
            "13/13 - 0s - loss: 21.2776 - mae: 3.5051 - 30ms/epoch - 2ms/step\n",
            "Epoch 82/100\n",
            "13/13 - 0s - loss: 17.0026 - mae: 3.0153 - 27ms/epoch - 2ms/step\n",
            "Epoch 83/100\n",
            "13/13 - 0s - loss: 19.0040 - mae: 3.2078 - 37ms/epoch - 3ms/step\n",
            "Epoch 84/100\n",
            "13/13 - 0s - loss: 23.1755 - mae: 3.5581 - 28ms/epoch - 2ms/step\n",
            "Epoch 85/100\n",
            "13/13 - 0s - loss: 26.8593 - mae: 4.0082 - 29ms/epoch - 2ms/step\n",
            "Epoch 86/100\n",
            "13/13 - 0s - loss: 20.2717 - mae: 3.3704 - 33ms/epoch - 3ms/step\n",
            "Epoch 87/100\n",
            "13/13 - 0s - loss: 17.0156 - mae: 3.0664 - 26ms/epoch - 2ms/step\n",
            "Epoch 88/100\n",
            "13/13 - 0s - loss: 22.1691 - mae: 3.5307 - 32ms/epoch - 2ms/step\n",
            "Epoch 89/100\n",
            "13/13 - 0s - loss: 18.8917 - mae: 3.3392 - 29ms/epoch - 2ms/step\n",
            "Epoch 90/100\n",
            "13/13 - 0s - loss: 19.9298 - mae: 3.3229 - 36ms/epoch - 3ms/step\n",
            "Epoch 91/100\n",
            "13/13 - 0s - loss: 17.0976 - mae: 3.0710 - 28ms/epoch - 2ms/step\n",
            "Epoch 92/100\n",
            "13/13 - 0s - loss: 17.5007 - mae: 3.0417 - 31ms/epoch - 2ms/step\n",
            "Epoch 93/100\n",
            "13/13 - 0s - loss: 17.3966 - mae: 3.1646 - 31ms/epoch - 2ms/step\n",
            "Epoch 94/100\n",
            "13/13 - 0s - loss: 16.3841 - mae: 2.9702 - 27ms/epoch - 2ms/step\n",
            "Epoch 95/100\n",
            "13/13 - 0s - loss: 14.6323 - mae: 2.7818 - 28ms/epoch - 2ms/step\n",
            "Epoch 96/100\n",
            "13/13 - 0s - loss: 24.5672 - mae: 3.7311 - 28ms/epoch - 2ms/step\n",
            "Epoch 97/100\n",
            "13/13 - 0s - loss: 21.1807 - mae: 3.4698 - 36ms/epoch - 3ms/step\n",
            "Epoch 98/100\n",
            "13/13 - 0s - loss: 16.0888 - mae: 2.9221 - 29ms/epoch - 2ms/step\n",
            "Epoch 99/100\n",
            "13/13 - 0s - loss: 14.2704 - mae: 2.7080 - 36ms/epoch - 3ms/step\n",
            "Epoch 100/100\n",
            "13/13 - 0s - loss: 15.2597 - mae: 2.9415 - 26ms/epoch - 2ms/step\n"
          ]
        },
        {
          "output_type": "execute_result",
          "data": {
            "text/plain": [
              "<keras.callbacks.History at 0x7f67fedf67d0>"
            ]
          },
          "metadata": {},
          "execution_count": 22
        }
      ]
    },
    {
      "cell_type": "code",
      "source": [
        "model.evaluate(X_test, y_test)"
      ],
      "metadata": {
        "colab": {
          "base_uri": "https://localhost:8080/"
        },
        "id": "3MicZa7CwBLm",
        "outputId": "6a79d44a-c74d-4e83-b01a-dd086ec8bfd2"
      },
      "execution_count": 23,
      "outputs": [
        {
          "output_type": "stream",
          "name": "stdout",
          "text": [
            "4/4 [==============================] - 0s 4ms/step - loss: 21.3641 - mae: 3.2363\n"
          ]
        },
        {
          "output_type": "execute_result",
          "data": {
            "text/plain": [
              "[21.3641414642334, 3.236255407333374]"
            ]
          },
          "metadata": {},
          "execution_count": 23
        }
      ]
    },
    {
      "cell_type": "code",
      "source": [
        "model = build_model(num_input=13)\n",
        "history = model.fit(X_train, y_train, batch_size=32, epochs=200, validation_split=0.25, verbose=2)"
      ],
      "metadata": {
        "colab": {
          "base_uri": "https://localhost:8080/"
        },
        "id": "l7hpSDsBwZNt",
        "outputId": "cb6c969d-fa04-4a9d-91ef-abab881f278e"
      },
      "execution_count": 25,
      "outputs": [
        {
          "output_type": "stream",
          "name": "stdout",
          "text": [
            "Epoch 1/200\n",
            "10/10 - 1s - loss: 370.1654 - mae: 14.6129 - val_loss: 125.8315 - val_mae: 9.0202 - 662ms/epoch - 66ms/step\n",
            "Epoch 2/200\n",
            "10/10 - 0s - loss: 98.7852 - mae: 6.9537 - val_loss: 52.6608 - val_mae: 4.9962 - 49ms/epoch - 5ms/step\n",
            "Epoch 3/200\n",
            "10/10 - 0s - loss: 70.9970 - mae: 6.3549 - val_loss: 51.0423 - val_mae: 5.0795 - 44ms/epoch - 4ms/step\n",
            "Epoch 4/200\n",
            "10/10 - 0s - loss: 66.5547 - mae: 5.6352 - val_loss: 50.8034 - val_mae: 5.2322 - 49ms/epoch - 5ms/step\n",
            "Epoch 5/200\n",
            "10/10 - 0s - loss: 65.5845 - mae: 5.6685 - val_loss: 50.2695 - val_mae: 5.0668 - 60ms/epoch - 6ms/step\n",
            "Epoch 6/200\n",
            "10/10 - 0s - loss: 66.3856 - mae: 5.7887 - val_loss: 54.6249 - val_mae: 4.7900 - 47ms/epoch - 5ms/step\n",
            "Epoch 7/200\n",
            "10/10 - 0s - loss: 62.5665 - mae: 5.5290 - val_loss: 48.3676 - val_mae: 5.4401 - 64ms/epoch - 6ms/step\n",
            "Epoch 8/200\n",
            "10/10 - 0s - loss: 60.6847 - mae: 5.4761 - val_loss: 48.9151 - val_mae: 4.6399 - 61ms/epoch - 6ms/step\n",
            "Epoch 9/200\n",
            "10/10 - 0s - loss: 60.6794 - mae: 5.4556 - val_loss: 47.2945 - val_mae: 4.7707 - 61ms/epoch - 6ms/step\n",
            "Epoch 10/200\n",
            "10/10 - 0s - loss: 60.2188 - mae: 5.4066 - val_loss: 47.2059 - val_mae: 5.3116 - 61ms/epoch - 6ms/step\n",
            "Epoch 11/200\n",
            "10/10 - 0s - loss: 62.0203 - mae: 5.5614 - val_loss: 45.8977 - val_mae: 4.9864 - 46ms/epoch - 5ms/step\n",
            "Epoch 12/200\n",
            "10/10 - 0s - loss: 56.7185 - mae: 5.2223 - val_loss: 43.7526 - val_mae: 4.7364 - 64ms/epoch - 6ms/step\n",
            "Epoch 13/200\n",
            "10/10 - 0s - loss: 55.2298 - mae: 5.3009 - val_loss: 46.6802 - val_mae: 4.3776 - 61ms/epoch - 6ms/step\n",
            "Epoch 14/200\n",
            "10/10 - 0s - loss: 60.9348 - mae: 5.4854 - val_loss: 55.9157 - val_mae: 4.7621 - 53ms/epoch - 5ms/step\n",
            "Epoch 15/200\n",
            "10/10 - 0s - loss: 58.8795 - mae: 5.4670 - val_loss: 43.2778 - val_mae: 4.2172 - 66ms/epoch - 7ms/step\n",
            "Epoch 16/200\n",
            "10/10 - 0s - loss: 52.6474 - mae: 5.0935 - val_loss: 41.7831 - val_mae: 4.1372 - 49ms/epoch - 5ms/step\n",
            "Epoch 17/200\n",
            "10/10 - 0s - loss: 51.7673 - mae: 4.9413 - val_loss: 39.4197 - val_mae: 4.5414 - 63ms/epoch - 6ms/step\n",
            "Epoch 18/200\n",
            "10/10 - 0s - loss: 50.3376 - mae: 4.9037 - val_loss: 38.5668 - val_mae: 4.5494 - 61ms/epoch - 6ms/step\n",
            "Epoch 19/200\n",
            "10/10 - 0s - loss: 47.2045 - mae: 4.8178 - val_loss: 40.5488 - val_mae: 4.0248 - 63ms/epoch - 6ms/step\n",
            "Epoch 20/200\n",
            "10/10 - 0s - loss: 48.0340 - mae: 4.9022 - val_loss: 41.0911 - val_mae: 4.0935 - 50ms/epoch - 5ms/step\n",
            "Epoch 21/200\n",
            "10/10 - 0s - loss: 47.4359 - mae: 4.8932 - val_loss: 36.3486 - val_mae: 4.1002 - 54ms/epoch - 5ms/step\n",
            "Epoch 22/200\n",
            "10/10 - 0s - loss: 45.5379 - mae: 4.6581 - val_loss: 34.5299 - val_mae: 3.9539 - 48ms/epoch - 5ms/step\n",
            "Epoch 23/200\n",
            "10/10 - 0s - loss: 41.9981 - mae: 4.5545 - val_loss: 33.1732 - val_mae: 3.9205 - 49ms/epoch - 5ms/step\n",
            "Epoch 24/200\n",
            "10/10 - 0s - loss: 39.1650 - mae: 4.3486 - val_loss: 34.0466 - val_mae: 4.1650 - 82ms/epoch - 8ms/step\n",
            "Epoch 25/200\n",
            "10/10 - 0s - loss: 40.9640 - mae: 4.5718 - val_loss: 33.8094 - val_mae: 3.9191 - 64ms/epoch - 6ms/step\n",
            "Epoch 26/200\n",
            "10/10 - 0s - loss: 39.4626 - mae: 4.4779 - val_loss: 31.4274 - val_mae: 3.8364 - 61ms/epoch - 6ms/step\n",
            "Epoch 27/200\n",
            "10/10 - 0s - loss: 43.5600 - mae: 4.7633 - val_loss: 33.6392 - val_mae: 3.7213 - 47ms/epoch - 5ms/step\n",
            "Epoch 28/200\n",
            "10/10 - 0s - loss: 36.8583 - mae: 4.3175 - val_loss: 31.4743 - val_mae: 3.8771 - 63ms/epoch - 6ms/step\n",
            "Epoch 29/200\n",
            "10/10 - 0s - loss: 37.2437 - mae: 4.4332 - val_loss: 37.7503 - val_mae: 3.9691 - 61ms/epoch - 6ms/step\n",
            "Epoch 30/200\n",
            "10/10 - 0s - loss: 33.5736 - mae: 4.2020 - val_loss: 29.8234 - val_mae: 3.5742 - 60ms/epoch - 6ms/step\n",
            "Epoch 31/200\n",
            "10/10 - 0s - loss: 32.1836 - mae: 4.0151 - val_loss: 37.8428 - val_mae: 4.9079 - 55ms/epoch - 6ms/step\n",
            "Epoch 32/200\n",
            "10/10 - 0s - loss: 36.3222 - mae: 4.5641 - val_loss: 28.6410 - val_mae: 3.4449 - 45ms/epoch - 4ms/step\n",
            "Epoch 33/200\n",
            "10/10 - 0s - loss: 35.8527 - mae: 4.3152 - val_loss: 28.9735 - val_mae: 3.5548 - 50ms/epoch - 5ms/step\n",
            "Epoch 34/200\n",
            "10/10 - 0s - loss: 35.8058 - mae: 4.4285 - val_loss: 29.1064 - val_mae: 3.8967 - 46ms/epoch - 5ms/step\n",
            "Epoch 35/200\n",
            "10/10 - 0s - loss: 29.2163 - mae: 3.8633 - val_loss: 36.5675 - val_mae: 4.8360 - 50ms/epoch - 5ms/step\n",
            "Epoch 36/200\n",
            "10/10 - 0s - loss: 34.8588 - mae: 4.6153 - val_loss: 27.0357 - val_mae: 3.4315 - 60ms/epoch - 6ms/step\n",
            "Epoch 37/200\n",
            "10/10 - 0s - loss: 26.3586 - mae: 3.7663 - val_loss: 34.8239 - val_mae: 4.6662 - 61ms/epoch - 6ms/step\n",
            "Epoch 38/200\n",
            "10/10 - 0s - loss: 32.8490 - mae: 4.4682 - val_loss: 32.5691 - val_mae: 3.7913 - 48ms/epoch - 5ms/step\n",
            "Epoch 39/200\n",
            "10/10 - 0s - loss: 33.9581 - mae: 4.3778 - val_loss: 29.4174 - val_mae: 3.5219 - 49ms/epoch - 5ms/step\n",
            "Epoch 40/200\n",
            "10/10 - 0s - loss: 29.2593 - mae: 3.9414 - val_loss: 29.0855 - val_mae: 4.0303 - 50ms/epoch - 5ms/step\n",
            "Epoch 41/200\n",
            "10/10 - 0s - loss: 32.3132 - mae: 4.2509 - val_loss: 33.2127 - val_mae: 4.6114 - 64ms/epoch - 6ms/step\n",
            "Epoch 42/200\n",
            "10/10 - 0s - loss: 31.2366 - mae: 4.2197 - val_loss: 27.2503 - val_mae: 3.5470 - 50ms/epoch - 5ms/step\n",
            "Epoch 43/200\n",
            "10/10 - 0s - loss: 28.4641 - mae: 3.8628 - val_loss: 26.0387 - val_mae: 3.3730 - 49ms/epoch - 5ms/step\n",
            "Epoch 44/200\n",
            "10/10 - 0s - loss: 23.6328 - mae: 3.6269 - val_loss: 24.5913 - val_mae: 3.4126 - 65ms/epoch - 6ms/step\n",
            "Epoch 45/200\n",
            "10/10 - 0s - loss: 24.4834 - mae: 3.6639 - val_loss: 24.6307 - val_mae: 3.5786 - 63ms/epoch - 6ms/step\n",
            "Epoch 46/200\n",
            "10/10 - 0s - loss: 25.4517 - mae: 3.8526 - val_loss: 34.0694 - val_mae: 3.7150 - 64ms/epoch - 6ms/step\n",
            "Epoch 47/200\n",
            "10/10 - 0s - loss: 24.7970 - mae: 3.7509 - val_loss: 26.5413 - val_mae: 3.2459 - 53ms/epoch - 5ms/step\n",
            "Epoch 48/200\n",
            "10/10 - 0s - loss: 25.2833 - mae: 3.8218 - val_loss: 24.7036 - val_mae: 3.3971 - 62ms/epoch - 6ms/step\n",
            "Epoch 49/200\n",
            "10/10 - 0s - loss: 30.4452 - mae: 4.2554 - val_loss: 35.9613 - val_mae: 5.0565 - 45ms/epoch - 5ms/step\n",
            "Epoch 50/200\n",
            "10/10 - 0s - loss: 29.2796 - mae: 4.0945 - val_loss: 29.7918 - val_mae: 4.3230 - 48ms/epoch - 5ms/step\n",
            "Epoch 51/200\n",
            "10/10 - 0s - loss: 26.8456 - mae: 3.9551 - val_loss: 24.2918 - val_mae: 3.4409 - 60ms/epoch - 6ms/step\n",
            "Epoch 52/200\n",
            "10/10 - 0s - loss: 21.3842 - mae: 3.3950 - val_loss: 26.8686 - val_mae: 3.8072 - 62ms/epoch - 6ms/step\n",
            "Epoch 53/200\n",
            "10/10 - 0s - loss: 20.3822 - mae: 3.4077 - val_loss: 27.0674 - val_mae: 3.3723 - 68ms/epoch - 7ms/step\n",
            "Epoch 54/200\n",
            "10/10 - 0s - loss: 23.2311 - mae: 3.5831 - val_loss: 28.2643 - val_mae: 3.3284 - 59ms/epoch - 6ms/step\n",
            "Epoch 55/200\n",
            "10/10 - 0s - loss: 21.2225 - mae: 3.5163 - val_loss: 25.2822 - val_mae: 3.1966 - 48ms/epoch - 5ms/step\n",
            "Epoch 56/200\n",
            "10/10 - 0s - loss: 25.6812 - mae: 3.7861 - val_loss: 23.7836 - val_mae: 3.2283 - 46ms/epoch - 5ms/step\n",
            "Epoch 57/200\n",
            "10/10 - 0s - loss: 29.6604 - mae: 3.9796 - val_loss: 27.3156 - val_mae: 3.6710 - 64ms/epoch - 6ms/step\n",
            "Epoch 58/200\n",
            "10/10 - 0s - loss: 35.9523 - mae: 4.4342 - val_loss: 33.3755 - val_mae: 4.6639 - 46ms/epoch - 5ms/step\n",
            "Epoch 59/200\n",
            "10/10 - 0s - loss: 25.4344 - mae: 3.7959 - val_loss: 34.9740 - val_mae: 4.8410 - 68ms/epoch - 7ms/step\n",
            "Epoch 60/200\n",
            "10/10 - 0s - loss: 22.1261 - mae: 3.6004 - val_loss: 24.7303 - val_mae: 3.4070 - 48ms/epoch - 5ms/step\n",
            "Epoch 61/200\n",
            "10/10 - 0s - loss: 19.5002 - mae: 3.2430 - val_loss: 27.8505 - val_mae: 3.4114 - 47ms/epoch - 5ms/step\n",
            "Epoch 62/200\n",
            "10/10 - 0s - loss: 19.1387 - mae: 3.2740 - val_loss: 23.4557 - val_mae: 3.5452 - 48ms/epoch - 5ms/step\n",
            "Epoch 63/200\n",
            "10/10 - 0s - loss: 17.7838 - mae: 3.1926 - val_loss: 24.4158 - val_mae: 3.2614 - 47ms/epoch - 5ms/step\n",
            "Epoch 64/200\n",
            "10/10 - 0s - loss: 17.2561 - mae: 3.0952 - val_loss: 23.9653 - val_mae: 3.2356 - 45ms/epoch - 4ms/step\n",
            "Epoch 65/200\n",
            "10/10 - 0s - loss: 20.8317 - mae: 3.3593 - val_loss: 30.4706 - val_mae: 4.2398 - 63ms/epoch - 6ms/step\n",
            "Epoch 66/200\n",
            "10/10 - 0s - loss: 19.7165 - mae: 3.3085 - val_loss: 25.8834 - val_mae: 3.6727 - 65ms/epoch - 7ms/step\n",
            "Epoch 67/200\n",
            "10/10 - 0s - loss: 17.5493 - mae: 3.1207 - val_loss: 40.6380 - val_mae: 5.3304 - 47ms/epoch - 5ms/step\n",
            "Epoch 68/200\n",
            "10/10 - 0s - loss: 25.0265 - mae: 3.8513 - val_loss: 26.4738 - val_mae: 3.9079 - 65ms/epoch - 6ms/step\n",
            "Epoch 69/200\n",
            "10/10 - 0s - loss: 18.1692 - mae: 3.2115 - val_loss: 28.0947 - val_mae: 3.9840 - 45ms/epoch - 5ms/step\n",
            "Epoch 70/200\n",
            "10/10 - 0s - loss: 17.0830 - mae: 3.0707 - val_loss: 25.6252 - val_mae: 3.7559 - 48ms/epoch - 5ms/step\n",
            "Epoch 71/200\n",
            "10/10 - 0s - loss: 17.1807 - mae: 3.0522 - val_loss: 24.0291 - val_mae: 3.3691 - 64ms/epoch - 6ms/step\n",
            "Epoch 72/200\n",
            "10/10 - 0s - loss: 15.8039 - mae: 2.9667 - val_loss: 26.0320 - val_mae: 3.5795 - 53ms/epoch - 5ms/step\n",
            "Epoch 73/200\n",
            "10/10 - 0s - loss: 15.6902 - mae: 2.9824 - val_loss: 25.7452 - val_mae: 3.8186 - 48ms/epoch - 5ms/step\n",
            "Epoch 74/200\n",
            "10/10 - 0s - loss: 16.2258 - mae: 2.9884 - val_loss: 25.3160 - val_mae: 3.3339 - 50ms/epoch - 5ms/step\n",
            "Epoch 75/200\n",
            "10/10 - 0s - loss: 16.2536 - mae: 2.9621 - val_loss: 26.2731 - val_mae: 3.3545 - 61ms/epoch - 6ms/step\n",
            "Epoch 76/200\n",
            "10/10 - 0s - loss: 18.8445 - mae: 3.1542 - val_loss: 34.8929 - val_mae: 4.7947 - 60ms/epoch - 6ms/step\n",
            "Epoch 77/200\n",
            "10/10 - 0s - loss: 26.1661 - mae: 3.7720 - val_loss: 27.0854 - val_mae: 3.7587 - 47ms/epoch - 5ms/step\n",
            "Epoch 78/200\n",
            "10/10 - 0s - loss: 17.5767 - mae: 3.1242 - val_loss: 25.2063 - val_mae: 3.5750 - 62ms/epoch - 6ms/step\n",
            "Epoch 79/200\n",
            "10/10 - 0s - loss: 16.6320 - mae: 3.1055 - val_loss: 25.8888 - val_mae: 3.6028 - 49ms/epoch - 5ms/step\n",
            "Epoch 80/200\n",
            "10/10 - 0s - loss: 16.1103 - mae: 2.9381 - val_loss: 25.7107 - val_mae: 3.7502 - 48ms/epoch - 5ms/step\n",
            "Epoch 81/200\n",
            "10/10 - 0s - loss: 16.4656 - mae: 3.0239 - val_loss: 26.6435 - val_mae: 3.8638 - 47ms/epoch - 5ms/step\n",
            "Epoch 82/200\n",
            "10/10 - 0s - loss: 14.9506 - mae: 2.8789 - val_loss: 24.9170 - val_mae: 3.4671 - 55ms/epoch - 5ms/step\n",
            "Epoch 83/200\n",
            "10/10 - 0s - loss: 15.2983 - mae: 2.9228 - val_loss: 25.3712 - val_mae: 3.5842 - 66ms/epoch - 7ms/step\n",
            "Epoch 84/200\n",
            "10/10 - 0s - loss: 14.9739 - mae: 2.9141 - val_loss: 25.1559 - val_mae: 3.4207 - 49ms/epoch - 5ms/step\n",
            "Epoch 85/200\n",
            "10/10 - 0s - loss: 15.2343 - mae: 2.9004 - val_loss: 25.1531 - val_mae: 3.6570 - 51ms/epoch - 5ms/step\n",
            "Epoch 86/200\n",
            "10/10 - 0s - loss: 16.1973 - mae: 2.9866 - val_loss: 27.1848 - val_mae: 3.4908 - 66ms/epoch - 7ms/step\n",
            "Epoch 87/200\n",
            "10/10 - 0s - loss: 18.5676 - mae: 3.2460 - val_loss: 29.1214 - val_mae: 4.2472 - 49ms/epoch - 5ms/step\n",
            "Epoch 88/200\n",
            "10/10 - 0s - loss: 17.0023 - mae: 3.1102 - val_loss: 24.6541 - val_mae: 3.6044 - 62ms/epoch - 6ms/step\n",
            "Epoch 89/200\n",
            "10/10 - 0s - loss: 15.2193 - mae: 2.9285 - val_loss: 26.2729 - val_mae: 3.7824 - 60ms/epoch - 6ms/step\n",
            "Epoch 90/200\n",
            "10/10 - 0s - loss: 14.7218 - mae: 2.8554 - val_loss: 26.8629 - val_mae: 3.8014 - 60ms/epoch - 6ms/step\n",
            "Epoch 91/200\n",
            "10/10 - 0s - loss: 17.0809 - mae: 3.0780 - val_loss: 30.6861 - val_mae: 4.3139 - 69ms/epoch - 7ms/step\n",
            "Epoch 92/200\n",
            "10/10 - 0s - loss: 17.7999 - mae: 3.2108 - val_loss: 30.2004 - val_mae: 3.7135 - 44ms/epoch - 4ms/step\n",
            "Epoch 93/200\n",
            "10/10 - 0s - loss: 17.6145 - mae: 3.1094 - val_loss: 26.1100 - val_mae: 3.3683 - 60ms/epoch - 6ms/step\n",
            "Epoch 94/200\n",
            "10/10 - 0s - loss: 15.8644 - mae: 2.9955 - val_loss: 25.5544 - val_mae: 3.4933 - 65ms/epoch - 7ms/step\n",
            "Epoch 95/200\n",
            "10/10 - 0s - loss: 15.5160 - mae: 2.8725 - val_loss: 26.7983 - val_mae: 3.5983 - 66ms/epoch - 7ms/step\n",
            "Epoch 96/200\n",
            "10/10 - 0s - loss: 15.4985 - mae: 2.9278 - val_loss: 32.1361 - val_mae: 4.3997 - 60ms/epoch - 6ms/step\n",
            "Epoch 97/200\n",
            "10/10 - 0s - loss: 14.4051 - mae: 2.8599 - val_loss: 25.4732 - val_mae: 3.5023 - 65ms/epoch - 7ms/step\n",
            "Epoch 98/200\n",
            "10/10 - 0s - loss: 13.7987 - mae: 2.7751 - val_loss: 25.4613 - val_mae: 3.5150 - 44ms/epoch - 4ms/step\n",
            "Epoch 99/200\n",
            "10/10 - 0s - loss: 13.6806 - mae: 2.7318 - val_loss: 27.4047 - val_mae: 3.4658 - 60ms/epoch - 6ms/step\n",
            "Epoch 100/200\n",
            "10/10 - 0s - loss: 18.0740 - mae: 3.0806 - val_loss: 25.7216 - val_mae: 3.7000 - 46ms/epoch - 5ms/step\n",
            "Epoch 101/200\n",
            "10/10 - 0s - loss: 13.6647 - mae: 2.7782 - val_loss: 24.2129 - val_mae: 3.3944 - 49ms/epoch - 5ms/step\n",
            "Epoch 102/200\n",
            "10/10 - 0s - loss: 14.0438 - mae: 2.7745 - val_loss: 25.9109 - val_mae: 3.7333 - 45ms/epoch - 5ms/step\n",
            "Epoch 103/200\n",
            "10/10 - 0s - loss: 14.6945 - mae: 2.8293 - val_loss: 30.8516 - val_mae: 4.1635 - 60ms/epoch - 6ms/step\n",
            "Epoch 104/200\n",
            "10/10 - 0s - loss: 17.8124 - mae: 3.0813 - val_loss: 25.0204 - val_mae: 3.5516 - 50ms/epoch - 5ms/step\n",
            "Epoch 105/200\n",
            "10/10 - 0s - loss: 16.2088 - mae: 2.9140 - val_loss: 29.2393 - val_mae: 3.6292 - 56ms/epoch - 6ms/step\n",
            "Epoch 106/200\n",
            "10/10 - 0s - loss: 15.1663 - mae: 2.8646 - val_loss: 28.0499 - val_mae: 3.5391 - 62ms/epoch - 6ms/step\n",
            "Epoch 107/200\n",
            "10/10 - 0s - loss: 14.8898 - mae: 2.8083 - val_loss: 28.4189 - val_mae: 3.9878 - 64ms/epoch - 6ms/step\n",
            "Epoch 108/200\n",
            "10/10 - 0s - loss: 14.6903 - mae: 2.8127 - val_loss: 25.6649 - val_mae: 3.5036 - 61ms/epoch - 6ms/step\n",
            "Epoch 109/200\n",
            "10/10 - 0s - loss: 14.5870 - mae: 2.8345 - val_loss: 26.8589 - val_mae: 3.4088 - 62ms/epoch - 6ms/step\n",
            "Epoch 110/200\n",
            "10/10 - 0s - loss: 14.6125 - mae: 2.8688 - val_loss: 27.9654 - val_mae: 3.8211 - 60ms/epoch - 6ms/step\n",
            "Epoch 111/200\n",
            "10/10 - 0s - loss: 13.0185 - mae: 2.6720 - val_loss: 27.3767 - val_mae: 3.8360 - 61ms/epoch - 6ms/step\n",
            "Epoch 112/200\n",
            "10/10 - 0s - loss: 13.8851 - mae: 2.6924 - val_loss: 26.4793 - val_mae: 3.5621 - 62ms/epoch - 6ms/step\n",
            "Epoch 113/200\n",
            "10/10 - 0s - loss: 13.5744 - mae: 2.6983 - val_loss: 25.0094 - val_mae: 3.4700 - 66ms/epoch - 7ms/step\n",
            "Epoch 114/200\n",
            "10/10 - 0s - loss: 12.9825 - mae: 2.7078 - val_loss: 25.3973 - val_mae: 3.5175 - 54ms/epoch - 5ms/step\n",
            "Epoch 115/200\n",
            "10/10 - 0s - loss: 13.5517 - mae: 2.7185 - val_loss: 26.3918 - val_mae: 3.5845 - 51ms/epoch - 5ms/step\n",
            "Epoch 116/200\n",
            "10/10 - 0s - loss: 14.0784 - mae: 2.8054 - val_loss: 24.6501 - val_mae: 3.4016 - 59ms/epoch - 6ms/step\n",
            "Epoch 117/200\n",
            "10/10 - 0s - loss: 12.9966 - mae: 2.6454 - val_loss: 25.2912 - val_mae: 3.6213 - 66ms/epoch - 7ms/step\n",
            "Epoch 118/200\n",
            "10/10 - 0s - loss: 14.2173 - mae: 2.8142 - val_loss: 24.3430 - val_mae: 3.4898 - 55ms/epoch - 6ms/step\n",
            "Epoch 119/200\n",
            "10/10 - 0s - loss: 14.8327 - mae: 2.9043 - val_loss: 23.3760 - val_mae: 3.3764 - 48ms/epoch - 5ms/step\n",
            "Epoch 120/200\n",
            "10/10 - 0s - loss: 13.9442 - mae: 2.6969 - val_loss: 28.0891 - val_mae: 3.7243 - 49ms/epoch - 5ms/step\n",
            "Epoch 121/200\n",
            "10/10 - 0s - loss: 13.7342 - mae: 2.6367 - val_loss: 26.5850 - val_mae: 3.7302 - 71ms/epoch - 7ms/step\n",
            "Epoch 122/200\n",
            "10/10 - 0s - loss: 14.1945 - mae: 2.7156 - val_loss: 29.8302 - val_mae: 3.6545 - 63ms/epoch - 6ms/step\n",
            "Epoch 123/200\n",
            "10/10 - 0s - loss: 14.7592 - mae: 2.8518 - val_loss: 24.2095 - val_mae: 3.5004 - 52ms/epoch - 5ms/step\n",
            "Epoch 124/200\n",
            "10/10 - 0s - loss: 13.3248 - mae: 2.6945 - val_loss: 26.8069 - val_mae: 3.6935 - 48ms/epoch - 5ms/step\n",
            "Epoch 125/200\n",
            "10/10 - 0s - loss: 13.5518 - mae: 2.7762 - val_loss: 25.7041 - val_mae: 3.5811 - 67ms/epoch - 7ms/step\n",
            "Epoch 126/200\n",
            "10/10 - 0s - loss: 13.0318 - mae: 2.6436 - val_loss: 28.8718 - val_mae: 3.9212 - 64ms/epoch - 6ms/step\n",
            "Epoch 127/200\n",
            "10/10 - 0s - loss: 19.4453 - mae: 3.2738 - val_loss: 33.5503 - val_mae: 4.5402 - 63ms/epoch - 6ms/step\n",
            "Epoch 128/200\n",
            "10/10 - 0s - loss: 16.6951 - mae: 3.0427 - val_loss: 29.0659 - val_mae: 3.7776 - 46ms/epoch - 5ms/step\n",
            "Epoch 129/200\n",
            "10/10 - 0s - loss: 24.2525 - mae: 3.7160 - val_loss: 36.5299 - val_mae: 3.7056 - 50ms/epoch - 5ms/step\n",
            "Epoch 130/200\n",
            "10/10 - 0s - loss: 20.9845 - mae: 3.4061 - val_loss: 25.6140 - val_mae: 3.4716 - 68ms/epoch - 7ms/step\n",
            "Epoch 131/200\n",
            "10/10 - 0s - loss: 17.3596 - mae: 3.1292 - val_loss: 30.3626 - val_mae: 4.0077 - 68ms/epoch - 7ms/step\n",
            "Epoch 132/200\n",
            "10/10 - 0s - loss: 16.3366 - mae: 3.0189 - val_loss: 30.9328 - val_mae: 3.9928 - 64ms/epoch - 6ms/step\n",
            "Epoch 133/200\n",
            "10/10 - 0s - loss: 13.5480 - mae: 2.7674 - val_loss: 26.9270 - val_mae: 3.8341 - 64ms/epoch - 6ms/step\n",
            "Epoch 134/200\n",
            "10/10 - 0s - loss: 15.6971 - mae: 2.8873 - val_loss: 25.8769 - val_mae: 3.4425 - 48ms/epoch - 5ms/step\n",
            "Epoch 135/200\n",
            "10/10 - 0s - loss: 13.9586 - mae: 2.7753 - val_loss: 28.6452 - val_mae: 3.6686 - 51ms/epoch - 5ms/step\n",
            "Epoch 136/200\n",
            "10/10 - 0s - loss: 14.0544 - mae: 2.7939 - val_loss: 27.7690 - val_mae: 3.5219 - 70ms/epoch - 7ms/step\n",
            "Epoch 137/200\n",
            "10/10 - 0s - loss: 14.8956 - mae: 2.7177 - val_loss: 26.4990 - val_mae: 3.5917 - 50ms/epoch - 5ms/step\n",
            "Epoch 138/200\n",
            "10/10 - 0s - loss: 15.6382 - mae: 2.9506 - val_loss: 27.1723 - val_mae: 3.6974 - 56ms/epoch - 6ms/step\n",
            "Epoch 139/200\n",
            "10/10 - 0s - loss: 12.2768 - mae: 2.6148 - val_loss: 38.3899 - val_mae: 4.9987 - 53ms/epoch - 5ms/step\n",
            "Epoch 140/200\n",
            "10/10 - 0s - loss: 18.0916 - mae: 3.2272 - val_loss: 32.5759 - val_mae: 4.1830 - 58ms/epoch - 6ms/step\n",
            "Epoch 141/200\n",
            "10/10 - 0s - loss: 14.6831 - mae: 2.8474 - val_loss: 33.0869 - val_mae: 4.3281 - 72ms/epoch - 7ms/step\n",
            "Epoch 142/200\n",
            "10/10 - 0s - loss: 14.1119 - mae: 2.9805 - val_loss: 41.6553 - val_mae: 5.0703 - 49ms/epoch - 5ms/step\n",
            "Epoch 143/200\n",
            "10/10 - 0s - loss: 23.0428 - mae: 3.4852 - val_loss: 56.5545 - val_mae: 6.2910 - 65ms/epoch - 6ms/step\n",
            "Epoch 144/200\n",
            "10/10 - 0s - loss: 25.1821 - mae: 3.5153 - val_loss: 31.6148 - val_mae: 4.0211 - 61ms/epoch - 6ms/step\n",
            "Epoch 145/200\n",
            "10/10 - 0s - loss: 13.4709 - mae: 2.6739 - val_loss: 30.9277 - val_mae: 4.0611 - 45ms/epoch - 4ms/step\n",
            "Epoch 146/200\n",
            "10/10 - 0s - loss: 16.2064 - mae: 3.0236 - val_loss: 27.5675 - val_mae: 3.7697 - 47ms/epoch - 5ms/step\n",
            "Epoch 147/200\n",
            "10/10 - 0s - loss: 15.7581 - mae: 2.9552 - val_loss: 29.6741 - val_mae: 4.0436 - 62ms/epoch - 6ms/step\n",
            "Epoch 148/200\n",
            "10/10 - 0s - loss: 14.0123 - mae: 2.7684 - val_loss: 26.5882 - val_mae: 3.6322 - 61ms/epoch - 6ms/step\n",
            "Epoch 149/200\n",
            "10/10 - 0s - loss: 14.9425 - mae: 2.7554 - val_loss: 33.7020 - val_mae: 4.5129 - 52ms/epoch - 5ms/step\n",
            "Epoch 150/200\n",
            "10/10 - 0s - loss: 15.4012 - mae: 2.9763 - val_loss: 32.2831 - val_mae: 4.1333 - 46ms/epoch - 5ms/step\n",
            "Epoch 151/200\n",
            "10/10 - 0s - loss: 18.9076 - mae: 3.1735 - val_loss: 25.3330 - val_mae: 3.3955 - 46ms/epoch - 5ms/step\n",
            "Epoch 152/200\n",
            "10/10 - 0s - loss: 15.5863 - mae: 2.8727 - val_loss: 24.8669 - val_mae: 3.3900 - 48ms/epoch - 5ms/step\n",
            "Epoch 153/200\n",
            "10/10 - 0s - loss: 13.1504 - mae: 2.6905 - val_loss: 25.7603 - val_mae: 3.5328 - 50ms/epoch - 5ms/step\n",
            "Epoch 154/200\n",
            "10/10 - 0s - loss: 12.6378 - mae: 2.6832 - val_loss: 26.6578 - val_mae: 3.4943 - 64ms/epoch - 6ms/step\n",
            "Epoch 155/200\n",
            "10/10 - 0s - loss: 12.8235 - mae: 2.6113 - val_loss: 31.2036 - val_mae: 4.1233 - 82ms/epoch - 8ms/step\n",
            "Epoch 156/200\n",
            "10/10 - 0s - loss: 16.3605 - mae: 2.9173 - val_loss: 26.3633 - val_mae: 3.5157 - 69ms/epoch - 7ms/step\n",
            "Epoch 157/200\n",
            "10/10 - 0s - loss: 12.2945 - mae: 2.5494 - val_loss: 25.7564 - val_mae: 3.4620 - 49ms/epoch - 5ms/step\n",
            "Epoch 158/200\n",
            "10/10 - 0s - loss: 11.3893 - mae: 2.4270 - val_loss: 25.5013 - val_mae: 3.5714 - 50ms/epoch - 5ms/step\n",
            "Epoch 159/200\n",
            "10/10 - 0s - loss: 12.8037 - mae: 2.6073 - val_loss: 27.5229 - val_mae: 3.5084 - 48ms/epoch - 5ms/step\n",
            "Epoch 160/200\n",
            "10/10 - 0s - loss: 16.5993 - mae: 2.9921 - val_loss: 28.5107 - val_mae: 3.5599 - 61ms/epoch - 6ms/step\n",
            "Epoch 161/200\n",
            "10/10 - 0s - loss: 15.3332 - mae: 2.7917 - val_loss: 26.9160 - val_mae: 3.4547 - 66ms/epoch - 7ms/step\n",
            "Epoch 162/200\n",
            "10/10 - 0s - loss: 11.4405 - mae: 2.5578 - val_loss: 26.0721 - val_mae: 3.4553 - 46ms/epoch - 5ms/step\n",
            "Epoch 163/200\n",
            "10/10 - 0s - loss: 11.7653 - mae: 2.5071 - val_loss: 25.3699 - val_mae: 3.5501 - 66ms/epoch - 7ms/step\n",
            "Epoch 164/200\n",
            "10/10 - 0s - loss: 11.8195 - mae: 2.6275 - val_loss: 25.7813 - val_mae: 3.5042 - 47ms/epoch - 5ms/step\n",
            "Epoch 165/200\n",
            "10/10 - 0s - loss: 11.4094 - mae: 2.4384 - val_loss: 26.8763 - val_mae: 3.7561 - 55ms/epoch - 6ms/step\n",
            "Epoch 166/200\n",
            "10/10 - 0s - loss: 11.1183 - mae: 2.5047 - val_loss: 24.2439 - val_mae: 3.4081 - 49ms/epoch - 5ms/step\n",
            "Epoch 167/200\n",
            "10/10 - 0s - loss: 11.6242 - mae: 2.4435 - val_loss: 29.2148 - val_mae: 3.9351 - 61ms/epoch - 6ms/step\n",
            "Epoch 168/200\n",
            "10/10 - 0s - loss: 12.1682 - mae: 2.6826 - val_loss: 27.2222 - val_mae: 3.6285 - 49ms/epoch - 5ms/step\n",
            "Epoch 169/200\n",
            "10/10 - 0s - loss: 12.6259 - mae: 2.5457 - val_loss: 26.1887 - val_mae: 3.6430 - 50ms/epoch - 5ms/step\n",
            "Epoch 170/200\n",
            "10/10 - 0s - loss: 12.3049 - mae: 2.5566 - val_loss: 27.6035 - val_mae: 3.5106 - 67ms/epoch - 7ms/step\n",
            "Epoch 171/200\n",
            "10/10 - 0s - loss: 14.1020 - mae: 2.8938 - val_loss: 26.2920 - val_mae: 3.4193 - 49ms/epoch - 5ms/step\n",
            "Epoch 172/200\n",
            "10/10 - 0s - loss: 12.9508 - mae: 2.6758 - val_loss: 25.7193 - val_mae: 3.5276 - 46ms/epoch - 5ms/step\n",
            "Epoch 173/200\n",
            "10/10 - 0s - loss: 12.1133 - mae: 2.6188 - val_loss: 23.5695 - val_mae: 3.4380 - 60ms/epoch - 6ms/step\n",
            "Epoch 174/200\n",
            "10/10 - 0s - loss: 11.8889 - mae: 2.5240 - val_loss: 25.6333 - val_mae: 3.5599 - 48ms/epoch - 5ms/step\n",
            "Epoch 175/200\n",
            "10/10 - 0s - loss: 10.6757 - mae: 2.3860 - val_loss: 24.7914 - val_mae: 3.5510 - 63ms/epoch - 6ms/step\n",
            "Epoch 176/200\n",
            "10/10 - 0s - loss: 11.1749 - mae: 2.4212 - val_loss: 27.3816 - val_mae: 3.7254 - 65ms/epoch - 7ms/step\n",
            "Epoch 177/200\n",
            "10/10 - 0s - loss: 12.0955 - mae: 2.4616 - val_loss: 23.6250 - val_mae: 3.3757 - 60ms/epoch - 6ms/step\n",
            "Epoch 178/200\n",
            "10/10 - 0s - loss: 13.1395 - mae: 2.6110 - val_loss: 27.0497 - val_mae: 3.5937 - 44ms/epoch - 4ms/step\n",
            "Epoch 179/200\n",
            "10/10 - 0s - loss: 16.5629 - mae: 2.9732 - val_loss: 33.9673 - val_mae: 3.8244 - 50ms/epoch - 5ms/step\n",
            "Epoch 180/200\n",
            "10/10 - 0s - loss: 15.9563 - mae: 2.9786 - val_loss: 27.6328 - val_mae: 3.5887 - 62ms/epoch - 6ms/step\n",
            "Epoch 181/200\n",
            "10/10 - 0s - loss: 13.5208 - mae: 2.6403 - val_loss: 27.5016 - val_mae: 3.6848 - 62ms/epoch - 6ms/step\n",
            "Epoch 182/200\n",
            "10/10 - 0s - loss: 12.7749 - mae: 2.5888 - val_loss: 27.2037 - val_mae: 3.4814 - 66ms/epoch - 7ms/step\n",
            "Epoch 183/200\n",
            "10/10 - 0s - loss: 14.5097 - mae: 2.7818 - val_loss: 24.5219 - val_mae: 3.4075 - 54ms/epoch - 5ms/step\n",
            "Epoch 184/200\n",
            "10/10 - 0s - loss: 14.3447 - mae: 2.8249 - val_loss: 28.5813 - val_mae: 3.8077 - 63ms/epoch - 6ms/step\n",
            "Epoch 185/200\n",
            "10/10 - 0s - loss: 13.0153 - mae: 2.5939 - val_loss: 26.7524 - val_mae: 3.6193 - 53ms/epoch - 5ms/step\n",
            "Epoch 186/200\n",
            "10/10 - 0s - loss: 13.2333 - mae: 2.6426 - val_loss: 25.8962 - val_mae: 3.6662 - 47ms/epoch - 5ms/step\n",
            "Epoch 187/200\n",
            "10/10 - 0s - loss: 13.3038 - mae: 2.7036 - val_loss: 28.4312 - val_mae: 3.7310 - 61ms/epoch - 6ms/step\n",
            "Epoch 188/200\n",
            "10/10 - 0s - loss: 12.9185 - mae: 2.6562 - val_loss: 29.3026 - val_mae: 3.8699 - 52ms/epoch - 5ms/step\n",
            "Epoch 189/200\n",
            "10/10 - 0s - loss: 15.0245 - mae: 2.8598 - val_loss: 27.4479 - val_mae: 3.6444 - 63ms/epoch - 6ms/step\n",
            "Epoch 190/200\n",
            "10/10 - 0s - loss: 12.4438 - mae: 2.6547 - val_loss: 27.7020 - val_mae: 4.0840 - 47ms/epoch - 5ms/step\n",
            "Epoch 191/200\n",
            "10/10 - 0s - loss: 12.7200 - mae: 2.7097 - val_loss: 30.2308 - val_mae: 3.9102 - 64ms/epoch - 6ms/step\n",
            "Epoch 192/200\n",
            "10/10 - 0s - loss: 12.8496 - mae: 2.6565 - val_loss: 27.1673 - val_mae: 3.7912 - 46ms/epoch - 5ms/step\n",
            "Epoch 193/200\n",
            "10/10 - 0s - loss: 12.1520 - mae: 2.4896 - val_loss: 26.5136 - val_mae: 3.5581 - 50ms/epoch - 5ms/step\n",
            "Epoch 194/200\n",
            "10/10 - 0s - loss: 11.0074 - mae: 2.4460 - val_loss: 27.1680 - val_mae: 3.7368 - 55ms/epoch - 6ms/step\n",
            "Epoch 195/200\n",
            "10/10 - 0s - loss: 11.9369 - mae: 2.5084 - val_loss: 28.5390 - val_mae: 3.6280 - 64ms/epoch - 6ms/step\n",
            "Epoch 196/200\n",
            "10/10 - 0s - loss: 12.4781 - mae: 2.5647 - val_loss: 25.2658 - val_mae: 3.4428 - 60ms/epoch - 6ms/step\n",
            "Epoch 197/200\n",
            "10/10 - 0s - loss: 11.1532 - mae: 2.4719 - val_loss: 28.7850 - val_mae: 3.8996 - 53ms/epoch - 5ms/step\n",
            "Epoch 198/200\n",
            "10/10 - 0s - loss: 12.0048 - mae: 2.5668 - val_loss: 29.4826 - val_mae: 3.8308 - 68ms/epoch - 7ms/step\n",
            "Epoch 199/200\n",
            "10/10 - 0s - loss: 11.5177 - mae: 2.5274 - val_loss: 24.6075 - val_mae: 3.4393 - 62ms/epoch - 6ms/step\n",
            "Epoch 200/200\n",
            "10/10 - 0s - loss: 10.7771 - mae: 2.4378 - val_loss: 24.2735 - val_mae: 3.4436 - 64ms/epoch - 6ms/step\n"
          ]
        }
      ]
    },
    {
      "cell_type": "code",
      "source": [
        "import matplotlib.pyplot as plt\n",
        "def plot_loss_curve(total_epoch=10, start=1):\n",
        "  plt.figure(figsize=(5,5))\n",
        "  plt.plot(range(start, total_epoch+1),\n",
        "           history.history['loss'][start-1:total_epoch],\n",
        "           label='Train')\n",
        "  plt.plot(range(start, total_epoch+1),\n",
        "           history.history['val_loss'][start-1:total_epoch],\n",
        "           label='Validation')\n",
        "  plt.xlabel('Epochs')\n",
        "  plt.ylabel('mse')\n",
        "  plt.legend()\n",
        "  plt.show()\n",
        "\n",
        "\n",
        "plot_loss_curve(total_epoch=200, start=1)"
      ],
      "metadata": {
        "colab": {
          "base_uri": "https://localhost:8080/",
          "height": 334
        },
        "id": "ZHdFfuhIw7Kz",
        "outputId": "3e4a0ab6-4f4f-487d-c916-4f68f0170074"
      },
      "execution_count": 31,
      "outputs": [
        {
          "output_type": "display_data",
          "data": {
            "text/plain": [
              "<Figure size 360x360 with 1 Axes>"
            ],
            "image/png": "[encoded data removed]"
          },
          "metadata": {
            "needs_background": "light"
          }
        }
      ]
    },
    {
      "cell_type": "code",
      "source": [
        "plot_loss_curve(total_epoch=200, start=20)"
      ],
      "metadata": {
        "colab": {
          "base_uri": "https://localhost:8080/",
          "height": 334
        },
        "id": "26ZboGhpyBVG",
        "outputId": "fe4c305a-301d-42af-c791-f6ed370a3fcb"
      },
      "execution_count": 33,
      "outputs": [
        {
          "output_type": "display_data",
          "data": {
            "text/plain": [
              "<Figure size 360x360 with 1 Axes>"
            ],
            "image/png": "[encoded data removed]"
          },
          "metadata": {
            "needs_background": "light"
          }
        }
      ]
    },
    {
      "cell_type": "markdown",
      "source": [
        "딥러닝을 활용한 분류 예측: 와인 품질 등급 판별"
      ],
      "metadata": {
        "id": "iMHu2ov48CO-"
      }
    },
    {
      "cell_type": "code",
      "source": [
        "import pandas as pd\n",
        "import numpy as np\n",
        "import random\n",
        "import tensorflow as tf\n",
        "\n",
        "SEED=12\n",
        "random.seed(SEED)\n",
        "np.random.seed(SEED)\n",
        "tf.random.set_seed(SEED)\n",
        "print(\"시드 고정:\", SEED)"
      ],
      "metadata": {
        "colab": {
          "base_uri": "https://localhost:8080/"
        },
        "id": "ztjIRHA5ySZR",
        "outputId": "b61bc636-81f4-4ac4-af05-6032ced21af9"
      },
      "execution_count": 35,
      "outputs": [
        {
          "output_type": "stream",
          "name": "stdout",
          "text": [
            "시드 고정: 12\n"
          ]
        }
      ]
    },
    {
      "cell_type": "code",
      "source": [
        "from google.colab import drive\n",
        "drive.mount('/gdrive')"
      ],
      "metadata": {
        "colab": {
          "base_uri": "https://localhost:8080/"
        },
        "id": "CaGPTgFY4UTF",
        "outputId": "9789e55f-138e-4287-f050-23b98d45e9df"
      },
      "execution_count": 36,
      "outputs": [
        {
          "output_type": "stream",
          "name": "stdout",
          "text": [
            "Mounted at /gdrive\n"
          ]
        }
      ]
    },
    {
      "cell_type": "code",
      "source": [
        "drive_path = \"/gdrive/My Drive/\"\n",
        "\n",
        "train = pd.read_csv(drive_path + 'wine/train.csv')\n",
        "test = pd.read_csv(drive_path + 'wine/test.csv')\n",
        "submission = pd.read_csv(drive_path + 'wine/sample_submission.csv')\n",
        "\n",
        "print(train.shape, test.shape, submission.shape)"
      ],
      "metadata": {
        "colab": {
          "base_uri": "https://localhost:8080/"
        },
        "id": "Um3afk-d40dh",
        "outputId": "234af216-cede-495b-fe92-a3d45b064b94"
      },
      "execution_count": 38,
      "outputs": [
        {
          "output_type": "stream",
          "name": "stdout",
          "text": [
            "(5497, 14) (1000, 13) (1000, 2)\n"
          ]
        }
      ]
    },
    {
      "cell_type": "code",
      "source": [
        "train.head(2)"
      ],
      "metadata": {
        "colab": {
          "base_uri": "https://localhost:8080/",
          "height": 173
        },
        "id": "KmM5L2te5cci",
        "outputId": "166d4f61-7153-4aee-ff73-7d1632939397"
      },
      "execution_count": 39,
      "outputs": [
        {
          "output_type": "execute_result",
          "data": {
            "text/plain": [
              "   index  quality  fixed acidity  volatile acidity  citric acid  \\\n",
              "0      0        5            5.6             0.695         0.06   \n",
              "1      1        5            8.8             0.610         0.14   \n",
              "\n",
              "   residual sugar  chlorides  free sulfur dioxide  total sulfur dioxide  \\\n",
              "0             6.8      0.042                  9.0                  84.0   \n",
              "1             2.4      0.067                 10.0                  42.0   \n",
              "\n",
              "   density    pH  sulphates  alcohol   type  \n",
              "0  0.99432  3.44       0.44     10.2  white  \n",
              "1  0.99690  3.19       0.59      9.5    red  "
            ],
            "text/html": [
              "\n",
              "  <div id=\"df-240549f5-e071-4dec-942a-37f1db762c55\">\n",
              "    <div class=\"colab-df-container\">\n",
              "      <div>\n",
              "<style scoped>\n",
              "    .dataframe tbody tr th:only-of-type {\n",
              "        vertical-align: middle;\n",
              "    }\n",
              "\n",
              "    .dataframe tbody tr th {\n",
              "        vertical-align: top;\n",
              "    }\n",
              "\n",
              "    .dataframe thead th {\n",
              "        text-align: right;\n",
              "    }\n",
              "</style>\n",
              "<table border=\"1\" class=\"dataframe\">\n",
              "  <thead>\n",
              "    <tr style=\"text-align: right;\">\n",
              "      <th></th>\n",
              "      <th>index</th>\n",
              "      <th>quality</th>\n",
              "      <th>fixed acidity</th>\n",
              "      <th>volatile acidity</th>\n",
              "      <th>citric acid</th>\n",
              "      <th>residual sugar</th>\n",
              "      <th>chlorides</th>\n",
              "      <th>free sulfur dioxide</th>\n",
              "      <th>total sulfur dioxide</th>\n",
              "      <th>density</th>\n",
              "      <th>pH</th>\n",
              "      <th>sulphates</th>\n",
              "      <th>alcohol</th>\n",
              "      <th>type</th>\n",
              "    </tr>\n",
              "  </thead>\n",
              "  <tbody>\n",
              "    <tr>\n",
              "      <th>0</th>\n",
              "      <td>0</td>\n",
              "      <td>5</td>\n",
              "      <td>5.6</td>\n",
              "      <td>0.695</td>\n",
              "      <td>0.06</td>\n",
              "      <td>6.8</td>\n",
              "      <td>0.042</td>\n",
              "      <td>9.0</td>\n",
              "      <td>84.0</td>\n",
              "      <td>0.99432</td>\n",
              "      <td>3.44</td>\n",
              "      <td>0.44</td>\n",
              "      <td>10.2</td>\n",
              "      <td>white</td>\n",
              "    </tr>\n",
              "    <tr>\n",
              "      <th>1</th>\n",
              "      <td>1</td>\n",
              "      <td>5</td>\n",
              "      <td>8.8</td>\n",
              "      <td>0.610</td>\n",
              "      <td>0.14</td>\n",
              "      <td>2.4</td>\n",
              "      <td>0.067</td>\n",
              "      <td>10.0</td>\n",
              "      <td>42.0</td>\n",
              "      <td>0.99690</td>\n",
              "      <td>3.19</td>\n",
              "      <td>0.59</td>\n",
              "      <td>9.5</td>\n",
              "      <td>red</td>\n",
              "    </tr>\n",
              "  </tbody>\n",
              "</table>\n",
              "</div>\n",
              "      <button class=\"colab-df-convert\" onclick=\"convertToInteractive('df-240549f5-e071-4dec-942a-37f1db762c55')\"\n",
              "              title=\"Convert this dataframe to an interactive table.\"\n",
              "              style=\"display:none;\">\n",
              "        \n",
              "  <svg xmlns=\"http://www.w3.org/2000/svg\" height=\"24px\"viewBox=\"0 0 24 24\"\n",
              "       width=\"24px\">\n",
              "    <path d=\"M0 0h24v24H0V0z\" fill=\"none\"/>\n",
              "    <path d=\"M18.56 5.44l.94 2.06.94-2.06 2.06-.94-2.06-.94-.94-2.06-.94 2.06-2.06.94zm-11 1L8.5 8.5l.94-2.06 2.06-.94-2.06-.94L8.5 2.5l-.94 2.06-2.06.94zm10 10l.94 2.06.94-2.06 2.06-.94-2.06-.94-.94-2.06-.94 2.06-2.06.94z\"/><path d=\"M17.41 7.96l-1.37-1.37c-.4-.4-.92-.59-1.43-.59-.52 0-1.04.2-1.43.59L10.3 9.45l-7.72 7.72c-.78.78-.78 2.05 0 2.83L4 21.41c.39.39.9.59 1.41.59.51 0 1.02-.2 1.41-.59l7.78-7.78 2.81-2.81c.8-.78.8-2.07 0-2.86zM5.41 20L4 18.59l7.72-7.72 1.47 1.35L5.41 20z\"/>\n",
              "  </svg>\n",
              "      </button>\n",
              "      \n",
              "  <style>\n",
              "    .colab-df-container {\n",
              "      display:flex;\n",
              "      flex-wrap:wrap;\n",
              "      gap: 12px;\n",
              "    }\n",
              "\n",
              "    .colab-df-convert {\n",
              "      background-color: #E8F0FE;\n",
              "      border: none;\n",
              "      border-radius: 50%;\n",
              "      cursor: pointer;\n",
              "      display: none;\n",
              "      fill: #1967D2;\n",
              "      height: 32px;\n",
              "      padding: 0 0 0 0;\n",
              "      width: 32px;\n",
              "    }\n",
              "\n",
              "    .colab-df-convert:hover {\n",
              "      background-color: #E2EBFA;\n",
              "      box-shadow: 0px 1px 2px rgba(60, 64, 67, 0.3), 0px 1px 3px 1px rgba(60, 64, 67, 0.15);\n",
              "      fill: #174EA6;\n",
              "    }\n",
              "\n",
              "    [theme=dark] .colab-df-convert {\n",
              "      background-color: #3B4455;\n",
              "      fill: #D2E3FC;\n",
              "    }\n",
              "\n",
              "    [theme=dark] .colab-df-convert:hover {\n",
              "      background-color: #434B5C;\n",
              "      box-shadow: 0px 1px 3px 1px rgba(0, 0, 0, 0.15);\n",
              "      filter: drop-shadow(0px 1px 2px rgba(0, 0, 0, 0.3));\n",
              "      fill: #FFFFFF;\n",
              "    }\n",
              "  </style>\n",
              "\n",
              "      <script>\n",
              "        const buttonEl =\n",
              "          document.querySelector('#df-240549f5-e071-4dec-942a-37f1db762c55 button.colab-df-convert');\n",
              "        buttonEl.style.display =\n",
              "          google.colab.kernel.accessAllowed ? 'block' : 'none';\n",
              "\n",
              "        async function convertToInteractive(key) {\n",
              "          const element = document.querySelector('#df-240549f5-e071-4dec-942a-37f1db762c55');\n",
              "          const dataTable =\n",
              "            await google.colab.kernel.invokeFunction('convertToInteractive',\n",
              "                                                     [key], {});\n",
              "          if (!dataTable) return;\n",
              "\n",
              "          const docLinkHtml = 'Like what you see? Visit the ' +\n",
              "            '<a target=\"_blank\" href=https://colab.research.google.com/notebooks/data_table.ipynb>data table notebook</a>'\n",
              "            + ' to learn more about interactive tables.';\n",
              "          element.innerHTML = '';\n",
              "          dataTable['output_type'] = 'display_data';\n",
              "          await google.colab.output.renderOutput(dataTable, element);\n",
              "          const docLink = document.createElement('div');\n",
              "          docLink.innerHTML = docLinkHtml;\n",
              "          element.appendChild(docLink);\n",
              "        }\n",
              "      </script>\n",
              "    </div>\n",
              "  </div>\n",
              "  "
            ]
          },
          "metadata": {},
          "execution_count": 39
        }
      ]
    },
    {
      "cell_type": "code",
      "source": [
        "submission.head()"
      ],
      "metadata": {
        "colab": {
          "base_uri": "https://localhost:8080/",
          "height": 206
        },
        "id": "MeoDtghL5zPw",
        "outputId": "d4d76646-93a6-4ff2-ce27-2da256596a7b"
      },
      "execution_count": 40,
      "outputs": [
        {
          "output_type": "execute_result",
          "data": {
            "text/plain": [
              "   index  quality\n",
              "0      0        0\n",
              "1      1        0\n",
              "2      2        0\n",
              "3      3        0\n",
              "4      4        0"
            ],
            "text/html": [
              "\n",
              "  <div id=\"df-5c80ac10-b3a5-4661-92b5-548e04032227\">\n",
              "    <div class=\"colab-df-container\">\n",
              "      <div>\n",
              "<style scoped>\n",
              "    .dataframe tbody tr th:only-of-type {\n",
              "        vertical-align: middle;\n",
              "    }\n",
              "\n",
              "    .dataframe tbody tr th {\n",
              "        vertical-align: top;\n",
              "    }\n",
              "\n",
              "    .dataframe thead th {\n",
              "        text-align: right;\n",
              "    }\n",
              "</style>\n",
              "<table border=\"1\" class=\"dataframe\">\n",
              "  <thead>\n",
              "    <tr style=\"text-align: right;\">\n",
              "      <th></th>\n",
              "      <th>index</th>\n",
              "      <th>quality</th>\n",
              "    </tr>\n",
              "  </thead>\n",
              "  <tbody>\n",
              "    <tr>\n",
              "      <th>0</th>\n",
              "      <td>0</td>\n",
              "      <td>0</td>\n",
              "    </tr>\n",
              "    <tr>\n",
              "      <th>1</th>\n",
              "      <td>1</td>\n",
              "      <td>0</td>\n",
              "    </tr>\n",
              "    <tr>\n",
              "      <th>2</th>\n",
              "      <td>2</td>\n",
              "      <td>0</td>\n",
              "    </tr>\n",
              "    <tr>\n",
              "      <th>3</th>\n",
              "      <td>3</td>\n",
              "      <td>0</td>\n",
              "    </tr>\n",
              "    <tr>\n",
              "      <th>4</th>\n",
              "      <td>4</td>\n",
              "      <td>0</td>\n",
              "    </tr>\n",
              "  </tbody>\n",
              "</table>\n",
              "</div>\n",
              "      <button class=\"colab-df-convert\" onclick=\"convertToInteractive('df-5c80ac10-b3a5-4661-92b5-548e04032227')\"\n",
              "              title=\"Convert this dataframe to an interactive table.\"\n",
              "              style=\"display:none;\">\n",
              "        \n",
              "  <svg xmlns=\"http://www.w3.org/2000/svg\" height=\"24px\"viewBox=\"0 0 24 24\"\n",
              "       width=\"24px\">\n",
              "    <path d=\"M0 0h24v24H0V0z\" fill=\"none\"/>\n",
              "    <path d=\"M18.56 5.44l.94 2.06.94-2.06 2.06-.94-2.06-.94-.94-2.06-.94 2.06-2.06.94zm-11 1L8.5 8.5l.94-2.06 2.06-.94-2.06-.94L8.5 2.5l-.94 2.06-2.06.94zm10 10l.94 2.06.94-2.06 2.06-.94-2.06-.94-.94-2.06-.94 2.06-2.06.94z\"/><path d=\"M17.41 7.96l-1.37-1.37c-.4-.4-.92-.59-1.43-.59-.52 0-1.04.2-1.43.59L10.3 9.45l-7.72 7.72c-.78.78-.78 2.05 0 2.83L4 21.41c.39.39.9.59 1.41.59.51 0 1.02-.2 1.41-.59l7.78-7.78 2.81-2.81c.8-.78.8-2.07 0-2.86zM5.41 20L4 18.59l7.72-7.72 1.47 1.35L5.41 20z\"/>\n",
              "  </svg>\n",
              "      </button>\n",
              "      \n",
              "  <style>\n",
              "    .colab-df-container {\n",
              "      display:flex;\n",
              "      flex-wrap:wrap;\n",
              "      gap: 12px;\n",
              "    }\n",
              "\n",
              "    .colab-df-convert {\n",
              "      background-color: #E8F0FE;\n",
              "      border: none;\n",
              "      border-radius: 50%;\n",
              "      cursor: pointer;\n",
              "      display: none;\n",
              "      fill: #1967D2;\n",
              "      height: 32px;\n",
              "      padding: 0 0 0 0;\n",
              "      width: 32px;\n",
              "    }\n",
              "\n",
              "    .colab-df-convert:hover {\n",
              "      background-color: #E2EBFA;\n",
              "      box-shadow: 0px 1px 2px rgba(60, 64, 67, 0.3), 0px 1px 3px 1px rgba(60, 64, 67, 0.15);\n",
              "      fill: #174EA6;\n",
              "    }\n",
              "\n",
              "    [theme=dark] .colab-df-convert {\n",
              "      background-color: #3B4455;\n",
              "      fill: #D2E3FC;\n",
              "    }\n",
              "\n",
              "    [theme=dark] .colab-df-convert:hover {\n",
              "      background-color: #434B5C;\n",
              "      box-shadow: 0px 1px 3px 1px rgba(0, 0, 0, 0.15);\n",
              "      filter: drop-shadow(0px 1px 2px rgba(0, 0, 0, 0.3));\n",
              "      fill: #FFFFFF;\n",
              "    }\n",
              "  </style>\n",
              "\n",
              "      <script>\n",
              "        const buttonEl =\n",
              "          document.querySelector('#df-5c80ac10-b3a5-4661-92b5-548e04032227 button.colab-df-convert');\n",
              "        buttonEl.style.display =\n",
              "          google.colab.kernel.accessAllowed ? 'block' : 'none';\n",
              "\n",
              "        async function convertToInteractive(key) {\n",
              "          const element = document.querySelector('#df-5c80ac10-b3a5-4661-92b5-548e04032227');\n",
              "          const dataTable =\n",
              "            await google.colab.kernel.invokeFunction('convertToInteractive',\n",
              "                                                     [key], {});\n",
              "          if (!dataTable) return;\n",
              "\n",
              "          const docLinkHtml = 'Like what you see? Visit the ' +\n",
              "            '<a target=\"_blank\" href=https://colab.research.google.com/notebooks/data_table.ipynb>data table notebook</a>'\n",
              "            + ' to learn more about interactive tables.';\n",
              "          element.innerHTML = '';\n",
              "          dataTable['output_type'] = 'display_data';\n",
              "          await google.colab.output.renderOutput(dataTable, element);\n",
              "          const docLink = document.createElement('div');\n",
              "          docLink.innerHTML = docLinkHtml;\n",
              "          element.appendChild(docLink);\n",
              "        }\n",
              "      </script>\n",
              "    </div>\n",
              "  </div>\n",
              "  "
            ]
          },
          "metadata": {},
          "execution_count": 40
        }
      ]
    },
    {
      "cell_type": "code",
      "source": [
        "train['type'].value_counts()"
      ],
      "metadata": {
        "colab": {
          "base_uri": "https://localhost:8080/"
        },
        "id": "NBAjIzBG51Mo",
        "outputId": "0f64c11a-dcec-4454-c117-e429da7c15c8"
      },
      "execution_count": 41,
      "outputs": [
        {
          "output_type": "execute_result",
          "data": {
            "text/plain": [
              "white    4159\n",
              "red      1338\n",
              "Name: type, dtype: int64"
            ]
          },
          "metadata": {},
          "execution_count": 41
        }
      ]
    },
    {
      "cell_type": "code",
      "source": [
        "train['type'] = np.where(train['type']=='white',1,0).astype(int)\n",
        "test['type'] = np.where(test['type']=='white',1,0).astype(int)\n",
        "train['type'].value_counts()"
      ],
      "metadata": {
        "colab": {
          "base_uri": "https://localhost:8080/"
        },
        "id": "nwrml99n53cT",
        "outputId": "69b6bb7f-c0dd-494a-e3ac-39f8bbb1c4aa"
      },
      "execution_count": 42,
      "outputs": [
        {
          "output_type": "execute_result",
          "data": {
            "text/plain": [
              "1    4159\n",
              "0    1338\n",
              "Name: type, dtype: int64"
            ]
          },
          "metadata": {},
          "execution_count": 42
        }
      ]
    },
    {
      "cell_type": "code",
      "source": [
        "train['quality'].value_counts()"
      ],
      "metadata": {
        "colab": {
          "base_uri": "https://localhost:8080/"
        },
        "id": "Q5kdiMZ66HCq",
        "outputId": "b63eb905-e758-4fdd-8069-8be3fde57f1a"
      },
      "execution_count": 43,
      "outputs": [
        {
          "output_type": "execute_result",
          "data": {
            "text/plain": [
              "6    2416\n",
              "5    1788\n",
              "7     924\n",
              "4     186\n",
              "8     152\n",
              "3      26\n",
              "9       5\n",
              "Name: quality, dtype: int64"
            ]
          },
          "metadata": {},
          "execution_count": 43
        }
      ]
    },
    {
      "cell_type": "code",
      "source": [
        "from tensorflow.keras.utils import to_categorical\n",
        "\n",
        "y_train = to_categorical(train.loc[:,'quality']-3)\n",
        "y_train"
      ],
      "metadata": {
        "colab": {
          "base_uri": "https://localhost:8080/"
        },
        "id": "KiA0z0G86USJ",
        "outputId": "78ffaa82-e471-48d8-d3bb-61fea3b180db"
      },
      "execution_count": 44,
      "outputs": [
        {
          "output_type": "execute_result",
          "data": {
            "text/plain": [
              "array([[0., 0., 1., ..., 0., 0., 0.],\n",
              "       [0., 0., 1., ..., 0., 0., 0.],\n",
              "       [0., 0., 1., ..., 0., 0., 0.],\n",
              "       ...,\n",
              "       [0., 0., 0., ..., 1., 0., 0.],\n",
              "       [0., 0., 1., ..., 0., 0., 0.],\n",
              "       [0., 0., 0., ..., 0., 0., 0.]], dtype=float32)"
            ]
          },
          "metadata": {},
          "execution_count": 44
        }
      ]
    },
    {
      "cell_type": "code",
      "source": [
        "X_train = train.loc[:,'fixed acidity':]\n",
        "X_test = test.loc[:,'fixed acidity':]\n",
        "\n",
        "from sklearn.preprocessing import MinMaxScaler\n",
        "scaler = MinMaxScaler()\n",
        "scaler.fit(X_train)\n",
        "X_train_scaled = scaler.fit_transform(X_train)\n",
        "X_test_scaled = scaler.fit_transform(X_test)\n",
        "\n",
        "print(X_train_scaled.shape, y_train.shape)\n",
        "print(X_test_scaled.shape)"
      ],
      "metadata": {
        "colab": {
          "base_uri": "https://localhost:8080/"
        },
        "id": "o-Mymqo06hrF",
        "outputId": "442f0e43-c411-492e-bb21-ca005f9b443a"
      },
      "execution_count": 48,
      "outputs": [
        {
          "output_type": "stream",
          "name": "stdout",
          "text": [
            "(5497, 12) (5497, 7)\n",
            "(1000, 12)\n"
          ]
        }
      ]
    },
    {
      "cell_type": "code",
      "source": [
        ""
      ],
      "metadata": {
        "id": "TP_ZeNke7iaw"
      },
      "execution_count": null,
      "outputs": []
    }
  ]
}