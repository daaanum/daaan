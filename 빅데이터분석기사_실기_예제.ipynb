{
  "nbformat": 4,
  "nbformat_minor": 0,
  "metadata": {
    "colab": {
      "name": "빅데이터분석기사 실기 예제.ipynb",
      "provenance": [],
      "authorship_tag": "ABX9TyO7e+aX6LDqPv9LxaElj37O",
      "include_colab_link": true
    },
    "kernelspec": {
      "name": "python3",
      "display_name": "Python 3"
    },
    "language_info": {
      "name": "python"
    }
  },
  "cells": [
    {
      "cell_type": "markdown",
      "metadata": {
        "id": "view-in-github",
        "colab_type": "text"
      },
      "source": [
        "<a href=\"https://colab.research.google.com/github/daaanum/daaan/blob/main/%EB%B9%85%EB%8D%B0%EC%9D%B4%ED%84%B0%EB%B6%84%EC%84%9D%EA%B8%B0%EC%82%AC_%EC%8B%A4%EA%B8%B0_%EC%98%88%EC%A0%9C.ipynb\" target=\"_parent\"><img src=\"https://colab.research.google.com/assets/colab-badge.svg\" alt=\"Open In Colab\"/></a>"
      ]
    },
    {
      "cell_type": "markdown",
      "source": [
        "작업형1) mtcars  데이터셋(mtcars.csv)의 qsec 컬럼을 최소최대 척도(Min-Max Scale)로 변환한 후 0.5보다 큰 값을 가지는 레코드 수를 구하시오."
      ],
      "metadata": {
        "id": "9z04wZtgyrv6"
      }
    },
    {
      "cell_type": "code",
      "execution_count": null,
      "metadata": {
        "colab": {
          "base_uri": "https://localhost:8080/"
        },
        "id": "OQ5nPZtoxzwc",
        "outputId": "b924bad5-cfca-4007-d931-d53f8bdb107e"
      },
      "outputs": [
        {
          "output_type": "stream",
          "name": "stdout",
          "text": [
            "24    1.0\n",
            "Name: qsec, dtype: float64\n",
            "1\n"
          ]
        }
      ],
      "source": [
        "#답안1\n",
        "import pandas as pd\n",
        "\n",
        "data = pd.read_csv('data/mtcars.csv')\n",
        "\n",
        "min_q = min(data.qsec)\n",
        "max_q = max(data.qsec)\n",
        "\n",
        "list_qsec = data.qsec\n",
        "list_fin = (list_qsec - min_q) / (max_q - min_q)\n",
        "\n",
        "print(list_fin[list_fin >= 0.5])\n",
        "print(len(list_fin[list_fin >= 0.5]))"
      ]
    },
    {
      "cell_type": "code",
      "source": [
        "#답안2\n",
        "import pandas as pd\n",
        "import numpy as np\n",
        "from sklearn.preprocessing import MinMaxScaler\n",
        "\n",
        "data = pd.read_csv('data/mtcars.csv')\n",
        "data_q = pd.DataFrame(data.qsec)\n",
        "\n",
        "data_fin = MinMaxScaler().fit_transform(data_q)\n",
        "\n",
        "print(pd.DataFrame({'Ans':data_fin[data_fin >= 0.5]}))\n",
        "print()\n",
        "print(len(data_fin[data_fin >= 0.5]), '개의 0.5 이상의 값')"
      ],
      "metadata": {
        "colab": {
          "base_uri": "https://localhost:8080/"
        },
        "id": "zTHszVClyfk6",
        "outputId": "9c4c2557-7431-45b5-cf39-240f5c39aaae"
      },
      "execution_count": null,
      "outputs": [
        {
          "output_type": "stream",
          "name": "stdout",
          "text": [
            "   Ans\n",
            "0  1.0\n",
            "\n",
            "1 개의 0.5 이상의 값\n"
          ]
        }
      ]
    },
    {
      "cell_type": "code",
      "source": [
        "import pandas as pd\n",
        "from sklearn.preprocessing import MinMaxScaler\n",
        " \n",
        "mtcars = pd.read_csv(\"data/mtcars.csv\")\n",
        "qsec = mtcars['qsec']\n",
        " \n",
        "scaler = MinMaxScaler()\n",
        "minmax =scaler.fit_transform(mtcars.loc[:,['qsec']])\n",
        "(minmax>0.5).sum()\n"
      ],
      "metadata": {
        "id": "3qj_LmZozXwH",
        "colab": {
          "base_uri": "https://localhost:8080/"
        },
        "outputId": "fb32ed85-52c2-41d0-abdb-0b680d915130"
      },
      "execution_count": null,
      "outputs": [
        {
          "output_type": "execute_result",
          "data": {
            "text/plain": [
              "1"
            ]
          },
          "metadata": {},
          "execution_count": 5
        }
      ]
    },
    {
      "cell_type": "code",
      "source": [
        "import pandas as pd\n",
        " \n",
        "mtcars = pd.read_csv(\"data/mtcars.csv\")\n",
        "qsec = mtcars['qsec']\n",
        " \n",
        "qsec_scale = (qsec - qsec.min()) / (qsec.max()-qsec.min())\n",
        "output = (qsec_scale > 0.5).sum()\n",
        "print(output)"
      ],
      "metadata": {
        "colab": {
          "base_uri": "https://localhost:8080/"
        },
        "id": "kZ6QFH3z8CMx",
        "outputId": "3e67f992-97a6-427b-d3b5-f0c9fec0ea41"
      },
      "execution_count": null,
      "outputs": [
        {
          "output_type": "stream",
          "name": "stdout",
          "text": [
            "1\n"
          ]
        }
      ]
    },
    {
      "cell_type": "markdown",
      "source": [
        "작업형 2. 아래는 백화점 고객의 1년 간 구매 데이터이다. 고객 3500명에 대한 학습용 데이터(y_train.csv, X_train.csv)를 이용하여 성별예측 모형을 마든 후, 이를 평가용 데이터(X_test.csv)에 적용하여 얻은 2482명 고객의 성별 예측값(남자일 확률)을 다음과 같은 형식(custid, gender)의 CSV 파일로 생성하시오. (제출한 모델의 성능은 ROC-AUC 평가지표에 따라 채점)"
      ],
      "metadata": {
        "id": "mFiVwgUx8sda"
      }
    },
    {
      "cell_type": "code",
      "source": [
        "import pandas as pd\n",
        "from sklearn.preprocessing import LabelEncoder\n",
        "from sklearn.impute import SimpleImputer\n",
        " \n",
        "# 파일 불러오기\n",
        "x_train = pd.read_csv('data/X_train.csv')\n",
        "y_train = pd.read_csv('data/y_train.csv')\n",
        "x_test = pd.read_csv('data/X_test.csv')\n",
        " \n",
        "# 결과를 위해 'cust_id' 저장\n",
        "x_test_id = x_test.loc[:,'cust_id']\n",
        " \n",
        "# 데이터 \n",
        "x_train = x_train.iloc[:, 1:]\n",
        "y_train = y_train.iloc[:, -1]\n",
        "x_test = x_test.iloc[:, 1:]\n",
        " \n",
        "x_train['환불금액'].fillna(0, inplace=True)\n",
        "x_test['환불금액'].fillna(0, inplace=True)\n",
        " \n",
        "x_train.loc[:,['주구매상품', '주구매지점']] = x_train.loc[:,['주구매상품', '주구매지점']].apply(LabelEncoder().fit_transform)\n",
        "x_test.loc[:,['주구매상품', '주구매지점']] = x_test.loc[:,['주구매상품', '주구매지점']].apply(LabelEncoder().fit_transform)"
      ],
      "metadata": {
        "id": "Ok9VeH6PYyXK"
      },
      "execution_count": null,
      "outputs": []
    },
    {
      "cell_type": "code",
      "source": [
        "## Logistic\n",
        "from sklearn.linear_model import LogisticRegression\n",
        " \n",
        "model = LogisticRegression()\n",
        "model.fit(x_train, y_train)\n",
        "print('Logistic socre: ',model.score(x_train, y_train))"
      ],
      "metadata": {
        "id": "6aTdDOst87RX"
      },
      "execution_count": null,
      "outputs": []
    },
    {
      "cell_type": "code",
      "source": [
        "## KNN\n",
        "from sklearn.neighbors import KNeighborsClassifier\n",
        " \n",
        "model = KNeighborsClassifier(n_neighbors=4, metric='euclidean')\n",
        "model.fit(x_train, y_train)\n",
        "print('KNN socre: ', model.score(x_train, y_train))"
      ],
      "metadata": {
        "id": "9djEajLE87ZK"
      },
      "execution_count": null,
      "outputs": []
    },
    {
      "cell_type": "code",
      "source": [
        "## Decision Tree\n",
        "from sklearn.tree import DecisionTreeClassifier\n",
        " \n",
        "model = DecisionTreeClassifier(random_state=1, max_depth=10)\n",
        "model.fit(x_train, y_train)\n",
        "print('DTree score: ', model.score(x_train,y_train))"
      ],
      "metadata": {
        "id": "95QXb8Kj87dq"
      },
      "execution_count": null,
      "outputs": []
    },
    {
      "cell_type": "code",
      "source": [
        "## SVM\n",
        "from sklearn.svm import SVC\n",
        " \n",
        "model = SVC(C=10, gamma=1, random_state=1, probability=True)\n",
        "model.fit(x_train, y_train)\n",
        "print('SVM socre: ', model.score(x_train,y_train))"
      ],
      "metadata": {
        "id": "S2y6GDW59Ama"
      },
      "execution_count": null,
      "outputs": []
    },
    {
      "cell_type": "code",
      "source": [
        "## NN\n",
        "from sklearn.neural_network import MLPClassifier\n",
        " \n",
        "model = MLPClassifier(random_state=0, alpha=0.01, hidden_layer_sizes=[50])\n",
        "model.fit(x_train, y_train)\n",
        "print('NN score: ', model.score(x_train,y_train))"
      ],
      "metadata": {
        "id": "gxUUpTrg9AwE"
      },
      "execution_count": null,
      "outputs": []
    },
    {
      "cell_type": "code",
      "source": [
        "## RF\n",
        "from sklearn.ensemble import RandomForestClassifier\n",
        " \n",
        "model = RandomForestClassifier(max_depth=10, n_estimators=100)\n",
        "model.fit(x_train, y_train)\n",
        "print('RF score: ', model.score(x_train,y_train))"
      ],
      "metadata": {
        "id": "oOC-ud0O9A1v"
      },
      "execution_count": null,
      "outputs": []
    },
    {
      "cell_type": "code",
      "source": [
        "predict = model.predict_proba(x_test)\n",
        "predict = pd.DataFrame(predict)\n",
        "predict = predict.iloc[:,1]\n",
        "output = pd.concat([x_test_id, predict], axis=1)"
      ],
      "metadata": {
        "id": "e8-jC_IP9Ebd"
      },
      "execution_count": null,
      "outputs": []
    },
    {
      "cell_type": "code",
      "source": [
        "predict = model.predict_proba(x_test)\n",
        "output = pd.DataFrame({'cust_id':x_test_id, 'gender':predict[:,0]})"
      ],
      "metadata": {
        "id": "fIRTFMUu9Hij"
      },
      "execution_count": null,
      "outputs": []
    },
    {
      "cell_type": "code",
      "source": [
        "output.to_csv('1234.csv', index=False)"
      ],
      "metadata": {
        "id": "cYdEcigS9Hr_"
      },
      "execution_count": null,
      "outputs": []
    },
    {
      "cell_type": "code",
      "source": [
        ""
      ],
      "metadata": {
        "id": "s3G8pD1B9Hws"
      },
      "execution_count": null,
      "outputs": []
    },
    {
      "cell_type": "code",
      "source": [
        ""
      ],
      "metadata": {
        "id": "GqbbhJp39HzO"
      },
      "execution_count": null,
      "outputs": []
    }
  ]
}